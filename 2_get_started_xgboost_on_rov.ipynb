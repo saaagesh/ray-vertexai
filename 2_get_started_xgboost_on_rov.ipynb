{
  "cells": [
    {
      "cell_type": "code",
      "execution_count": null,
      "metadata": {
        "id": "ur8xi4C7S06n"
      },
      "outputs": [],
      "source": [
        "# Copyright 2023 Google LLC\n",
        "#\n",
        "# Licensed under the Apache License, Version 2.0 (the \"License\");\n",
        "# you may not use this file except in compliance with the License.\n",
        "# You may obtain a copy of the License at\n",
        "#\n",
        "#     https://www.apache.org/licenses/LICENSE-2.0\n",
        "#\n",
        "# Unless required by applicable law or agreed to in writing, software\n",
        "# distributed under the License is distributed on an \"AS IS\" BASIS,\n",
        "# WITHOUT WARRANTIES OR CONDITIONS OF ANY KIND, either express or implied.\n",
        "# See the License for the specific language governing permissions and\n",
        "# limitations under the License."
      ]
    },
    {
      "cell_type": "markdown",
      "metadata": {
        "id": "JAPoU8Sm5E6e"
      },
      "source": [
        "# Get started with XGBoost on Ray on Vertex AI\n",
        "{TODO: Update the links below.}\n",
        "\n",
        "<table align=\"left\">\n",
        "\n",
        "  <td>\n",
        "    <a href=\"https://colab.research.google.com/github/GoogleCloudPlatform/vertex-ai-samples/blob/main/notebooks/notebook_template.ipynb\">\n",
        "      <img src=\"https://cloud.google.com/ml-engine/images/colab-logo-32px.png\" alt=\"Colab logo\"> Run in Colab\n",
        "    </a>\n",
        "  </td>\n",
        "  <td>\n",
        "    <a href=\"https://github.com/GoogleCloudPlatform/vertex-ai-samples/blob/main/notebooks/notebook_template.ipynb\">\n",
        "      <img src=\"https://cloud.google.com/ml-engine/images/github-logo-32px.png\" alt=\"GitHub logo\">\n",
        "      View on GitHub\n",
        "    </a>\n",
        "  </td>\n",
        "  <td>\n",
        "    <a href=\"https://console.cloud.google.com/vertex-ai/workbench/deploy-notebook?download_url=https://raw.githubusercontent.com/GoogleCloudPlatform/vertex-ai-samples/main/notebooks/notebook_template.ipynb\">\n",
        "      <img src=\"https://lh3.googleusercontent.com/UiNooY4LUgW_oTvpsNhPpQzsstV5W8F7rYgxgGBD85cWJoLmrOzhVs_ksK_vgx40SHs7jCqkTkCk=e14-rj-sc0xffffff-h130-w32\" alt=\"Vertex AI logo\">\n",
        "      Open in Vertex AI Workbench\n",
        "    </a>\n",
        "  </td>                                                                                               \n",
        "</table>"
      ]
    },
    {
      "cell_type": "markdown",
      "metadata": {
        "id": "24743cf4a1e1"
      },
      "source": [
        "**_NOTE_**: This notebook has been tested in the following environment:\n",
        "\n",
        "* Python version = 3.9"
      ]
    },
    {
      "cell_type": "markdown",
      "metadata": {
        "id": "tvgnzT1CKxrO"
      },
      "source": [
        "## Overview\n",
        "\n",
        "\n",
        "\n",
        "Learn more about [web-doc-title](linkback-to-webdoc-page). {TODO: if more than one primary feature, add tag/linkback for each one}"
      ]
    },
    {
      "cell_type": "markdown",
      "metadata": {
        "id": "d975e698c9a4"
      },
      "source": [
        "### Objective\n",
        "\n",
        "In this notebook, you learn how to preprocess, train and serve a XGBoost model using Ray on Vertex AI.\n",
        "\n",
        "This tutorial uses the following Google Cloud ML services and resources:\n",
        "\n",
        "- Cloud storage\n",
        "- BigQuery\n",
        "- Ray on Vertex AI\n",
        "- Vertex AI Prediction\n",
        "\n",
        "The steps performed include:\n",
        "\n",
        "- Data preprocessing\n",
        "- Fine tuning\n",
        "- Model serving for online inference"
      ]
    },
    {
      "cell_type": "markdown",
      "metadata": {
        "id": "08d289fa873f"
      },
      "source": [
        "### Dataset\n",
        "\n",
        "The BigQuery `ulb_fraud_detection` dataset contains transactions made by credit cards in September 2013 by european cardholders. This dataset presents transactions that occurred in two days, where we have 492 frauds out of 284,807 transactions. It is highly unbalanced, the positive class (frauds) account for 0.172% of all transactions.\n",
        "\n"
      ]
    },
    {
      "cell_type": "markdown",
      "metadata": {
        "id": "aed92deeb4a0"
      },
      "source": [
        "### Costs\n",
        "\n",
        "This tutorial uses billable components of Google Cloud:\n",
        "\n",
        "* Vertex AI\n",
        "* Cloud Storage\n",
        "\n",
        "\n",
        "Learn about [Vertex AI pricing](https://cloud.google.com/vertex-ai/pricing),\n",
        "and [Cloud Storage pricing](https://cloud.google.com/storage/pricing),\n",
        "and use the [Pricing Calculator](https://cloud.google.com/products/calculator/)\n",
        "to generate a cost estimate based on your projected usage."
      ]
    },
    {
      "cell_type": "markdown",
      "metadata": {
        "id": "i7EUnXsZhAGF"
      },
      "source": [
        "## Installation\n",
        "\n",
        "Install the following packages required to execute this notebook."
      ]
    },
    {
      "cell_type": "code",
      "execution_count": null,
      "metadata": {
        "id": "2b4ef9b72d43",
        "colab": {
          "base_uri": "https://localhost:8080/"
        },
        "outputId": "1738122c-7037-4eec-f0dd-0faae78488c6"
      },
      "outputs": [
        {
          "output_type": "stream",
          "name": "stdout",
          "text": [
            "\u001b[33m  WARNING: The scripts pip, pip3 and pip3.10 are installed in '/root/.local/bin' which is not on PATH.\n",
            "  Consider adding this directory to PATH or, if you prefer to suppress this warning, use --no-warn-script-location.\u001b[0m\u001b[33m\n",
            "\u001b[0m\u001b[33mWARNING: Running pip as the 'root' user can result in broken permissions and conflicting behaviour with the system package manager. It is recommended to use a virtual environment instead: https://pip.pypa.io/warnings/venv\u001b[0m\u001b[33m\n",
            "\u001b[0m\u001b[33mWARNING: Running pip as the 'root' user can result in broken permissions and conflicting behaviour with the system package manager. It is recommended to use a virtual environment instead: https://pip.pypa.io/warnings/venv\u001b[0m\u001b[33m\n",
            "\u001b[2K   \u001b[90m━━━━━━━━━━━━━━━━━━━━━━━━━━━━━━━━━━━━━━━━\u001b[0m \u001b[32m173.4/173.4 kB\u001b[0m \u001b[31m4.3 MB/s\u001b[0m eta \u001b[36m0:00:00\u001b[0m\n",
            "\u001b[2K   \u001b[90m━━━━━━━━━━━━━━━━━━━━━━━━━━━━━━━━━━━━━━━━\u001b[0m \u001b[32m80.9/80.9 kB\u001b[0m \u001b[31m5.0 MB/s\u001b[0m eta \u001b[36m0:00:00\u001b[0m\n",
            "\u001b[?25h\u001b[33m  WARNING: The script tabulate is installed in '/root/.local/bin' which is not on PATH.\n",
            "  Consider adding this directory to PATH or, if you prefer to suppress this warning, use --no-warn-script-location.\u001b[0m\u001b[33m\n",
            "\u001b[0m\u001b[33m  WARNING: The script f2py is installed in '/root/.local/bin' which is not on PATH.\n",
            "  Consider adding this directory to PATH or, if you prefer to suppress this warning, use --no-warn-script-location.\u001b[0m\u001b[33m\n",
            "\u001b[0m\u001b[33m  WARNING: The script normalizer is installed in '/root/.local/bin' which is not on PATH.\n",
            "  Consider adding this directory to PATH or, if you prefer to suppress this warning, use --no-warn-script-location.\u001b[0m\u001b[33m\n",
            "\u001b[0m\u001b[33m  WARNING: The script virtualenv is installed in '/root/.local/bin' which is not on PATH.\n",
            "  Consider adding this directory to PATH or, if you prefer to suppress this warning, use --no-warn-script-location.\u001b[0m\u001b[33m\n",
            "\u001b[0m\u001b[33m  WARNING: The script uvicorn is installed in '/root/.local/bin' which is not on PATH.\n",
            "  Consider adding this directory to PATH or, if you prefer to suppress this warning, use --no-warn-script-location.\u001b[0m\u001b[33m\n",
            "\u001b[0m\u001b[33m  WARNING: The scripts pyrsa-decrypt, pyrsa-encrypt, pyrsa-keygen, pyrsa-priv2pub, pyrsa-sign and pyrsa-verify are installed in '/root/.local/bin' which is not on PATH.\n",
            "  Consider adding this directory to PATH or, if you prefer to suppress this warning, use --no-warn-script-location.\u001b[0m\u001b[33m\n",
            "\u001b[0m\u001b[33m  WARNING: The script gpustat is installed in '/root/.local/bin' which is not on PATH.\n",
            "  Consider adding this directory to PATH or, if you prefer to suppress this warning, use --no-warn-script-location.\u001b[0m\u001b[33m\n",
            "\u001b[0m\u001b[33m  WARNING: The script jsonschema is installed in '/root/.local/bin' which is not on PATH.\n",
            "  Consider adding this directory to PATH or, if you prefer to suppress this warning, use --no-warn-script-location.\u001b[0m\u001b[33m\n",
            "\u001b[0m\u001b[33m  WARNING: The scripts ray, rllib, serve and tune are installed in '/root/.local/bin' which is not on PATH.\n",
            "  Consider adding this directory to PATH or, if you prefer to suppress this warning, use --no-warn-script-location.\u001b[0m\u001b[33m\n",
            "\u001b[0m\u001b[33m  WARNING: The script tb-gcp-uploader is installed in '/root/.local/bin' which is not on PATH.\n",
            "  Consider adding this directory to PATH or, if you prefer to suppress this warning, use --no-warn-script-location.\u001b[0m\u001b[33m\n",
            "\u001b[0m\u001b[33mWARNING: Running pip as the 'root' user can result in broken permissions and conflicting behaviour with the system package manager. It is recommended to use a virtual environment instead: https://pip.pypa.io/warnings/venv\u001b[0m\u001b[33m\n",
            "\u001b[0m"
          ]
        }
      ],
      "source": [
        "# Install the packages\n",
        "! pip3 install --user --upgrade pip --force-reinstall --no-warn-conflicts -q\n",
        "! pip3 install --user --upgrade gputil etils --force-reinstall --no-warn-conflicts -q\n",
        "! pip3 install --user --upgrade 'google-cloud-aiplatform[ray]==1.33.1' 'ray[air]==2.4' 'xgboost==1.7.6' 'xgboost_ray==0.1.18' --force-reinstall --no-warn-conflicts -q"
      ]
    },
    {
      "cell_type": "markdown",
      "metadata": {
        "id": "58707a750154"
      },
      "source": [
        "### Colab only: Uncomment the following cell to restart the kernel."
      ]
    },
    {
      "cell_type": "code",
      "execution_count": null,
      "metadata": {
        "id": "f200f10a1da3"
      },
      "outputs": [],
      "source": [
        "# # Automatically restart kernel after installs so that your environment can access the new packages\n",
        "# import IPython\n",
        "\n",
        "# app = IPython.Application.instance()\n",
        "# app.kernel.do_shutdown(True)"
      ]
    },
    {
      "cell_type": "markdown",
      "metadata": {
        "id": "BF1j6f9HApxa"
      },
      "source": [
        "## Before you begin\n",
        "\n",
        "### Set up your Google Cloud project\n",
        "\n",
        "**The following steps are required, regardless of your notebook environment.**\n",
        "\n",
        "1. [Select or create a Google Cloud project](https://console.cloud.google.com/cloud-resource-manager). When you first create an account, you get a $300 free credit towards your compute/storage costs.\n",
        "\n",
        "2. [Make sure that billing is enabled for your project](https://cloud.google.com/billing/docs/how-to/modify-project).\n",
        "\n",
        "3. [Enable the Vertex AI API](https://console.cloud.google.com/flows/enableapi?apiid=aiplatform.googleapis.com). {TODO: Update the APIs needed for your tutorial. Edit the API names, and update the link to append the API IDs, separating each one with a comma. For example, container.googleapis.com,cloudbuild.googleapis.com}\n",
        "\n",
        "4. If you are running this notebook locally, you need to install the [Cloud SDK](https://cloud.google.com/sdk)."
      ]
    },
    {
      "cell_type": "markdown",
      "metadata": {
        "id": "WReHDGG5g0XY"
      },
      "source": [
        "#### Set your project ID\n",
        "\n",
        "**If you don't know your project ID**, try the following:\n",
        "* Run `gcloud config list`.\n",
        "* Run `gcloud projects list`.\n",
        "* See the support page: [Locate the project ID](https://support.google.com/googleapi/answer/7014113)"
      ]
    },
    {
      "cell_type": "code",
      "execution_count": null,
      "metadata": {
        "id": "oM1iC_MfAts1",
        "colab": {
          "base_uri": "https://localhost:8080/"
        },
        "outputId": "9a68801e-f114-488f-9dc9-577655ccc103"
      },
      "outputs": [
        {
          "output_type": "stream",
          "name": "stdout",
          "text": [
            "Updated property [core/project].\n"
          ]
        }
      ],
      "source": [
        "PROJECT_ID = \"[your-project-id]\"  # @param {type:\"string\"}\n",
        "\n",
        "PROJECT_ID = \"gen-ai-workshop\"  # @param {type:\"string\"}\n",
        "\n",
        "\n",
        "# Set the project id\n",
        "! gcloud config set project {PROJECT_ID}"
      ]
    },
    {
      "cell_type": "markdown",
      "metadata": {
        "id": "region"
      },
      "source": [
        "#### Region\n",
        "\n",
        "You can also change the `REGION` variable used by Vertex AI. Learn more about [Vertex AI regions](https://cloud.google.com/vertex-ai/docs/general/locations)."
      ]
    },
    {
      "cell_type": "code",
      "execution_count": null,
      "metadata": {
        "id": "S16hWQxmbslC"
      },
      "outputs": [],
      "source": [
        "REGION = \"us-central1\"  # @param {type: \"string\"}"
      ]
    },
    {
      "cell_type": "markdown",
      "source": [
        "### Timestamp"
      ],
      "metadata": {
        "id": "_0F_JCMOFZu2"
      }
    },
    {
      "cell_type": "code",
      "source": [
        "from datetime import datetime\n",
        "\n",
        "TIMESTAMP = datetime.now().strftime(\"%Y%m%d-%H%M%S\")"
      ],
      "metadata": {
        "id": "JURwLVShFbVf"
      },
      "execution_count": null,
      "outputs": []
    },
    {
      "cell_type": "markdown",
      "metadata": {
        "id": "sBCra4QMA2wR"
      },
      "source": [
        "### Authenticate your Google Cloud account\n",
        "\n",
        "Depending on your Jupyter environment, you may have to manually authenticate. Follow the relevant instructions below."
      ]
    },
    {
      "cell_type": "markdown",
      "metadata": {
        "id": "74ccc9e52986"
      },
      "source": [
        "**1. Vertex AI Workbench**\n",
        "* Do nothing as you are already authenticated."
      ]
    },
    {
      "cell_type": "markdown",
      "metadata": {
        "id": "de775a3773ba"
      },
      "source": [
        "**2. Local JupyterLab instance, uncomment and run:**"
      ]
    },
    {
      "cell_type": "code",
      "execution_count": null,
      "metadata": {
        "id": "254614fa0c46"
      },
      "outputs": [],
      "source": [
        "# ! gcloud auth login"
      ]
    },
    {
      "cell_type": "markdown",
      "metadata": {
        "id": "ef21552ccea8"
      },
      "source": [
        "**3. Colab, uncomment and run:**"
      ]
    },
    {
      "cell_type": "code",
      "execution_count": null,
      "metadata": {
        "id": "603adbbf0532"
      },
      "outputs": [],
      "source": [
        "# from google.colab import auth\n",
        "# auth.authenticate_user()"
      ]
    },
    {
      "cell_type": "markdown",
      "metadata": {
        "id": "f6b2ccc891ed"
      },
      "source": [
        "**4. Service account or other**\n",
        "* See how to grant Cloud Storage permissions to your service account at https://cloud.google.com/storage/docs/gsutil/commands/iam#ch-examples."
      ]
    },
    {
      "cell_type": "markdown",
      "metadata": {
        "id": "zgPO1eR3CYjk"
      },
      "source": [
        "### Create a Cloud Storage bucket\n",
        "\n",
        "Create a storage bucket to store intermediate artifacts such as datasets.\n",
        "\n",
        "- *{Note to notebook author: For any user-provided strings that need to be unique (like bucket names or model ID's), append \"-unique\" to the end so proper testing can occur}*"
      ]
    },
    {
      "cell_type": "code",
      "execution_count": null,
      "metadata": {
        "id": "MzGDU7TWdts_"
      },
      "outputs": [],
      "source": [
        "# BUCKET_URI = f\"gs://your-bucket-name-{PROJECT_ID}-unique\"  # @param {type:\"string\"}\n",
        "\n",
        "BUCKET_URI = f\"gs://ray-on-vertex-{TIMESTAMP}\"  # @param {type:\"string\"}"
      ]
    },
    {
      "cell_type": "markdown",
      "metadata": {
        "id": "-EcIXiGsCePi"
      },
      "source": [
        "**Only if your bucket doesn't already exist**: Run the following cell to create your Cloud Storage bucket."
      ]
    },
    {
      "cell_type": "code",
      "execution_count": null,
      "metadata": {
        "id": "NIq7R4HZCfIc",
        "colab": {
          "base_uri": "https://localhost:8080/"
        },
        "outputId": "dd125919-abdc-42b1-a4ed-315ed0c11947"
      },
      "outputs": [
        {
          "output_type": "stream",
          "name": "stdout",
          "text": [
            "Creating gs://ray-on-vertex-20231010-044524/...\n"
          ]
        }
      ],
      "source": [
        "! gsutil mb -l {REGION} -p {PROJECT_ID} {BUCKET_URI}"
      ]
    },
    {
      "cell_type": "markdown",
      "source": [
        "### Project number"
      ],
      "metadata": {
        "id": "Q_2erSKxH9H-"
      }
    },
    {
      "cell_type": "code",
      "source": [
        "PROJECT_NUMBER = !gcloud projects list --filter=\"$(gcloud config get-value project)\" --format=\"value(PROJECT_NUMBER)\"\n",
        "PROJECT_NUMBER = PROJECT_NUMBER[0]"
      ],
      "metadata": {
        "id": "LAALJMY4H_we"
      },
      "execution_count": null,
      "outputs": []
    },
    {
      "cell_type": "markdown",
      "source": [
        "### Prepare BigQuery dataset\n"
      ],
      "metadata": {
        "id": "nmkCE0JpVg_2"
      }
    },
    {
      "cell_type": "code",
      "source": [
        "from google.cloud import bigquery"
      ],
      "metadata": {
        "id": "yx9zrNi7WAQ6"
      },
      "execution_count": null,
      "outputs": []
    },
    {
      "cell_type": "code",
      "source": [
        "LOCATION = REGION.split('-')[0]\n",
        "DATASET_ID = 'rov_xgboost_dataset'\n",
        "TABLE_ID = f'fraud_detection_{TIMESTAMP}'"
      ],
      "metadata": {
        "id": "4SUHQa4KWdI8"
      },
      "execution_count": null,
      "outputs": []
    },
    {
      "cell_type": "code",
      "source": [
        "def create_bq_dataset(dataset_id):\n",
        "  bq_client = bigquery.Client(project=PROJECT_ID, location=LOCATION)\n",
        "  dataset_uri = f'{bq_client.project}.{dataset_id}'\n",
        "  dataset = bigquery.Dataset(dataset_uri)\n",
        "  dataset = bq_client.create_dataset(dataset, exists_ok=True)\n",
        "\n",
        "def run_bq_query(sql):\n",
        "  bq_client = bigquery.Client(project=PROJECT_ID, location=LOCATION)\n",
        "  job_config = bigquery.QueryJobConfig()\n",
        "  job = bq_client.query(sql, job_config=job_config)\n",
        "  job.result()"
      ],
      "metadata": {
        "id": "bVfHLU72VmUw"
      },
      "execution_count": null,
      "outputs": []
    },
    {
      "cell_type": "code",
      "source": [
        "_ = create_bq_dataset(DATASET_ID)"
      ],
      "metadata": {
        "id": "tzarmmvJW8dn"
      },
      "execution_count": null,
      "outputs": []
    },
    {
      "cell_type": "code",
      "source": [
        "sql = f'CREATE OR REPLACE TABLE `{PROJECT_ID}.{DATASET_ID}.{TABLE_ID}` AS SELECT * FROM `bigquery-public-data.ml_datasets.ulb_fraud_detection`'\n",
        "_ = run_bq_query(sql)"
      ],
      "metadata": {
        "id": "y8MB9wLWYLh3"
      },
      "execution_count": null,
      "outputs": []
    },
    {
      "cell_type": "markdown",
      "source": [
        "**⚠️ BE MINDFUL TO RUN.**\n",
        "\n",
        "The query below will create a +150 GB on BigQuery. It is for stress test only."
      ],
      "metadata": {
        "id": "Ke_9qbXH37Cf"
      }
    },
    {
      "cell_type": "code",
      "source": [
        "sql = f'''\n",
        "DECLARE counter INT64;\n",
        "SET counter = 1;\n",
        "\n",
        "# Loop the query X times.\n",
        "WHILE counter <= 10 DO\n",
        "\n",
        "  # Append the data from the original table to the new table.\n",
        "  INSERT INTO `{PROJECT_ID}.{DATASET_ID}.{TABLE_ID}`\n",
        "  SELECT *\n",
        "  FROM `{PROJECT_ID}.{DATASET_ID}.{TABLE_ID}`;\n",
        "\n",
        "  # Increment the counter variable.\n",
        "  SET counter = counter + 1;\n",
        "\n",
        "END WHILE;\n",
        "'''\n",
        "_ = run_bq_query(sql)"
      ],
      "metadata": {
        "id": "Pploq4pSz9Ej",
        "colab": {
          "base_uri": "https://localhost:8080/",
          "height": 245
        },
        "outputId": "82a9e8a9-0cee-4c00-a097-dc758fcc2b70"
      },
      "execution_count": null,
      "outputs": [
        {
          "output_type": "error",
          "ename": "NameError",
          "evalue": "ignored",
          "traceback": [
            "\u001b[0;31m---------------------------------------------------------------------------\u001b[0m",
            "\u001b[0;31mNameError\u001b[0m                                 Traceback (most recent call last)",
            "\u001b[0;32m<ipython-input-1-b1e5f8b191d3>\u001b[0m in \u001b[0;36m<cell line: 1>\u001b[0;34m()\u001b[0m\n\u001b[1;32m      7\u001b[0m \u001b[0;34m\u001b[0m\u001b[0m\n\u001b[1;32m      8\u001b[0m   \u001b[0;31m# Append the data from the original table to the new table.\u001b[0m\u001b[0;34m\u001b[0m\u001b[0;34m\u001b[0m\u001b[0m\n\u001b[0;32m----> 9\u001b[0;31m   \u001b[0mINSERT\u001b[0m \u001b[0mINTO\u001b[0m\u001b[0;31m \u001b[0m\u001b[0;31m`\u001b[0m\u001b[0;34m{\u001b[0m\u001b[0mPROJECT_ID\u001b[0m\u001b[0;34m}\u001b[0m\u001b[0;34m.\u001b[0m\u001b[0;34m{\u001b[0m\u001b[0mDATASET_ID\u001b[0m\u001b[0;34m}\u001b[0m\u001b[0;34m.\u001b[0m\u001b[0;34m{\u001b[0m\u001b[0mTABLE_ID\u001b[0m\u001b[0;34m}\u001b[0m\u001b[0;31m`\u001b[0m\u001b[0;34m\u001b[0m\u001b[0;34m\u001b[0m\u001b[0m\n\u001b[0m\u001b[1;32m     10\u001b[0m   \u001b[0mSELECT\u001b[0m \u001b[0;34m*\u001b[0m\u001b[0;34m\u001b[0m\u001b[0;34m\u001b[0m\u001b[0m\n\u001b[1;32m     11\u001b[0m   \u001b[0mFROM\u001b[0m\u001b[0;31m \u001b[0m\u001b[0;31m`\u001b[0m\u001b[0;34m{\u001b[0m\u001b[0mPROJECT_ID\u001b[0m\u001b[0;34m}\u001b[0m\u001b[0;34m.\u001b[0m\u001b[0;34m{\u001b[0m\u001b[0mDATASET_ID\u001b[0m\u001b[0;34m}\u001b[0m\u001b[0;34m.\u001b[0m\u001b[0;34m{\u001b[0m\u001b[0mTABLE_ID\u001b[0m\u001b[0;34m}\u001b[0m\u001b[0;31m`\u001b[0m\u001b[0;34m;\u001b[0m\u001b[0;34m\u001b[0m\u001b[0;34m\u001b[0m\u001b[0m\n",
            "\u001b[0;31mNameError\u001b[0m: name 'PROJECT_ID' is not defined"
          ]
        }
      ]
    },
    {
      "cell_type": "markdown",
      "source": [
        "### Set tutorial folder"
      ],
      "metadata": {
        "id": "Ek1-iTbPjzdJ"
      }
    },
    {
      "cell_type": "code",
      "source": [
        "from pathlib import Path as path\n",
        "\n",
        "root_path = path.cwd()\n",
        "tutorial_path = root_path / 'xgb_rov_tutorial'\n",
        "tutorial_path.mkdir(parents=True, exist_ok=True)"
      ],
      "metadata": {
        "id": "BbfKRabXj3la"
      },
      "execution_count": null,
      "outputs": []
    },
    {
      "cell_type": "markdown",
      "source": [
        "## Preprocess, train and serve an XGBoost using Ray on Vertex AI"
      ],
      "metadata": {
        "id": "3OzbDbeRYvR8"
      }
    },
    {
      "cell_type": "markdown",
      "metadata": {
        "id": "d6ZuQvqFnGKJ"
      },
      "source": [
        "### Import libraries"
      ]
    },
    {
      "cell_type": "code",
      "execution_count": null,
      "metadata": {
        "id": "uEJbiJXOnGKJ"
      },
      "outputs": [],
      "source": [
        "# General\n",
        "import uuid\n",
        "import random\n",
        "import time\n",
        "import GPUtil as gputil\n",
        "from etils import epath\n",
        "from pprint import pprint\n",
        "\n",
        "# Ray\n",
        "import ray\n",
        "from ray.runtime_env import RuntimeEnv\n",
        "from ray.air.config import RunConfig\n",
        "from ray.air import CheckpointConfig, ScalingConfig\n",
        "from ray.tune.syncer import SyncConfig\n",
        "from ray.train.xgboost import XGBoostTrainer\n",
        "from ray.train.xgboost import XGBoostCheckpoint\n",
        "\n",
        "# Ray on Vertex AI\n",
        "from google.cloud import aiplatform as vertex_ai\n",
        "import vertex_ray\n",
        "from vertex_ray import BigQueryDatasource\n",
        "from vertex_ray.predict import xgboost"
      ]
    },
    {
      "cell_type": "code",
      "source": [
        "print(\"Ray version:\", ray.__version__)"
      ],
      "metadata": {
        "colab": {
          "base_uri": "https://localhost:8080/"
        },
        "id": "0SzLoKKJT-Eh",
        "outputId": "46acf51f-7869-4f8f-b57a-ea1d47a0ebad"
      },
      "execution_count": null,
      "outputs": [
        {
          "output_type": "stream",
          "name": "stdout",
          "text": [
            "Ray version: 2.4.0\n"
          ]
        }
      ]
    },
    {
      "cell_type": "markdown",
      "source": [
        "### Define constants"
      ],
      "metadata": {
        "id": "MO3PpqX3eLmQ"
      }
    },
    {
      "cell_type": "code",
      "source": [
        "# Data\n",
        "PARALLELISM = 8\n",
        "QUERY = f'SELECT * EXCEPT(Time) FROM `{PROJECT_ID}.{DATASET_ID}.{TABLE_ID}`'\n",
        "\n",
        "# Train\n",
        "TRAIN_FOLDER_URI = str(epath.Path(BUCKET_URI) / 'logs')\n",
        "\n",
        "# Serve\n",
        "ENDPOINT_NAME = f\"rov-xgboost-endpoint-{TIMESTAMP}\"\n",
        "DEPLOYED_MODEL_NAME = f\"rov-xgboost-model-{TIMESTAMP}\"\n",
        "TRAFFIC_SPLIT = {\"0\": 100}\n",
        "MACHINE_TYPE = \"n1-standard-4\"\n",
        "MIN_NODES = 1\n",
        "MAX_NODES = 1"
      ],
      "metadata": {
        "id": "c96YmkWDeK8V"
      },
      "execution_count": null,
      "outputs": []
    },
    {
      "cell_type": "markdown",
      "metadata": {
        "id": "dorIZFvjnGKL"
      },
      "source": [
        "### Initialize Vertex AI SDK for Python\n",
        "\n",
        "Initialize the Vertex AI SDK for Python for your project."
      ]
    },
    {
      "cell_type": "code",
      "execution_count": null,
      "metadata": {
        "id": "VOOgvRJoQ6Xj"
      },
      "outputs": [],
      "source": [
        "vertex_ai.init(project=PROJECT_ID, location=REGION, staging_bucket=BUCKET_URI)"
      ]
    },
    {
      "cell_type": "markdown",
      "source": [
        "### Initialize Ray cluster on Vertex AI\n",
        "\n",
        "Initialize the Vertex AI SDK for Python for your project."
      ],
      "metadata": {
        "id": "6LjSMbSuSm7d"
      }
    },
    {
      "cell_type": "code",
      "source": [
        "ray_clusters = vertex_ray.list_ray_clusters()\n",
        "ray_cluster_resource_name = ray_clusters[0].cluster_resource_name\n",
        "ray_cluster = vertex_ray.get_ray_cluster(ray_cluster_resource_name)"
      ],
      "metadata": {
        "id": "dUI-4RIonY2R"
      },
      "execution_count": null,
      "outputs": []
    },
    {
      "cell_type": "code",
      "source": [
        "requirements = \"\"\"\n",
        "google-cloud-aiplatform[ray]==1.33.1\n",
        "ray[air]==2.4\n",
        "xgboost==1.7.6\n",
        "xgboost_ray==0.1.18\n",
        "gcsfs\n",
        "etils\n",
        "ipython\n",
        "importlib_resources\n",
        "\"\"\"\n",
        "\n",
        "with open(tutorial_path / \"requirements.txt\", \"w\") as f:\n",
        "    f.write(requirements)\n",
        "f.close()"
      ],
      "metadata": {
        "id": "IQbOLuptk3m2"
      },
      "execution_count": null,
      "outputs": []
    },
    {
      "cell_type": "code",
      "source": [
        "runtime_env = RuntimeEnv(\n",
        "    pip={\"packages\": str(tutorial_path / \"requirements.txt\")}\n",
        ")"
      ],
      "metadata": {
        "id": "EUvQX21_nk0L"
      },
      "execution_count": null,
      "outputs": []
    },
    {
      "cell_type": "code",
      "source": [
        "ray.shutdown()\n",
        "ray_cluster_address = f'vertex_ray://{ray_cluster_resource_name}'\n",
        "ray.init(runtime_env=runtime_env, address=ray_cluster_address)"
      ],
      "metadata": {
        "colab": {
          "base_uri": "https://localhost:8080/",
          "height": 234
        },
        "id": "_v5sGt8lSpZS",
        "outputId": "8d0a0f1b-852d-4aa0-9874-c3d3789ab9f9"
      },
      "execution_count": null,
      "outputs": [
        {
          "output_type": "stream",
          "name": "stdout",
          "text": [
            "[Ray on Vertex AI]: Using cluster resource name to access head address with GAPIC API\n"
          ]
        },
        {
          "output_type": "stream",
          "name": "stderr",
          "text": [
            "INFO:google.cloud.aiplatform.preview.vertex_ray.client_builder:[Ray on Vertex AI]: Using cluster resource name to access head address with GAPIC API\n"
          ]
        },
        {
          "output_type": "stream",
          "name": "stdout",
          "text": [
            "[Ray on Vertex AI]: Cluster State = State.RUNNING\n",
            "[Ray on Vertex AI]: Connecting...\n"
          ]
        },
        {
          "output_type": "stream",
          "name": "stderr",
          "text": [
            "INFO:google.cloud.aiplatform.preview.vertex_ray.client_builder:[Ray on Vertex AI]: Connecting...\n"
          ]
        },
        {
          "output_type": "execute_result",
          "data": {
            "text/plain": [
              "_VertexRayClientContext(dashboard_url='c6e02b109cff463f-dot-us-central1.aiplatform-training.googleusercontent.com', python_version='3.10.12', ray_version='2.4.0', ray_commit='4479f66d4db967d3c9dd0af2572061276ba926ba', protocol_version='2022-12-06', _num_clients=1, _context_to_restore=<ray.util.client._ClientContext object at 0x7dd2847ef7f0>)"
            ],
            "text/html": [
              "<div>\n",
              "    <div style=\"margin-left: 50px;display: flex;flex-direction: row;align-items: center\">\n",
              "        <h3 style=\"color: var(--jp-ui-font-color0)\">Ray</h3>\n",
              "        <svg version=\"1.1\" id=\"ray\" width=\"3em\" viewBox=\"0 0 144.5 144.6\" style=\"margin-left: 3em;margin-right: 3em\">\n",
              "            <g id=\"layer-1\">\n",
              "                <path fill=\"#00a2e9\" class=\"st0\" d=\"M97.3,77.2c-3.8-1.1-6.2,0.9-8.3,5.1c-3.5,6.8-9.9,9.9-17.4,9.6S58,88.1,54.8,81.2c-1.4-3-3-4-6.3-4.1\n",
              "                    c-5.6-0.1-9.9,0.1-13.1,6.4c-3.8,7.6-13.6,10.2-21.8,7.6C5.2,88.4-0.4,80.5,0,71.7c0.1-8.4,5.7-15.8,13.8-18.2\n",
              "                    c8.4-2.6,17.5,0.7,22.3,8c1.3,1.9,1.3,5.2,3.6,5.6c3.9,0.6,8,0.2,12,0.2c1.8,0,1.9-1.6,2.4-2.8c3.5-7.8,9.7-11.8,18-11.9\n",
              "                    c8.2-0.1,14.4,3.9,17.8,11.4c1.3,2.8,2.9,3.6,5.7,3.3c1-0.1,2,0.1,3,0c2.8-0.5,6.4,1.7,8.1-2.7s-2.3-5.5-4.1-7.5\n",
              "                    c-5.1-5.7-10.9-10.8-16.1-16.3C84,38,81.9,37.1,78,38.3C66.7,42,56.2,35.7,53,24.1C50.3,14,57.3,2.8,67.7,0.5\n",
              "                    C78.4-2,89,4.7,91.5,15.3c0.1,0.3,0.1,0.5,0.2,0.8c0.7,3.4,0.7,6.9-0.8,9.8c-1.7,3.2-0.8,5,1.5,7.2c6.7,6.5,13.3,13,19.8,19.7\n",
              "                    c1.8,1.8,3,2.1,5.5,1.2c9.1-3.4,17.9-0.6,23.4,7c4.8,6.9,4.6,16.1-0.4,22.9c-5.4,7.2-14.2,9.9-23.1,6.5c-2.3-0.9-3.5-0.6-5.1,1.1\n",
              "                    c-6.7,6.9-13.6,13.7-20.5,20.4c-1.8,1.8-2.5,3.2-1.4,5.9c3.5,8.7,0.3,18.6-7.7,23.6c-7.9,5-18.2,3.8-24.8-2.9\n",
              "                    c-6.4-6.4-7.4-16.2-2.5-24.3c4.9-7.8,14.5-11,23.1-7.8c3,1.1,4.7,0.5,6.9-1.7C91.7,98.4,98,92.3,104.2,86c1.6-1.6,4.1-2.7,2.6-6.2\n",
              "                    c-1.4-3.3-3.8-2.5-6.2-2.6C99.8,77.2,98.9,77.2,97.3,77.2z M72.1,29.7c5.5,0.1,9.9-4.3,10-9.8c0-0.1,0-0.2,0-0.3\n",
              "                    C81.8,14,77,9.8,71.5,10.2c-5,0.3-9,4.2-9.3,9.2c-0.2,5.5,4,10.1,9.5,10.3C71.8,29.7,72,29.7,72.1,29.7z M72.3,62.3\n",
              "                    c-5.4-0.1-9.9,4.2-10.1,9.7c0,0.2,0,0.3,0,0.5c0.2,5.4,4.5,9.7,9.9,10c5.1,0.1,9.9-4.7,10.1-9.8c0.2-5.5-4-10-9.5-10.3\n",
              "                    C72.6,62.3,72.4,62.3,72.3,62.3z M115,72.5c0.1,5.4,4.5,9.7,9.8,9.9c5.6-0.2,10-4.8,10-10.4c-0.2-5.4-4.6-9.7-10-9.7\n",
              "                    c-5.3-0.1-9.8,4.2-9.9,9.5C115,72.1,115,72.3,115,72.5z M19.5,62.3c-5.4,0.1-9.8,4.4-10,9.8c-0.1,5.1,5.2,10.4,10.2,10.3\n",
              "                    c5.6-0.2,10-4.9,9.8-10.5c-0.1-5.4-4.5-9.7-9.9-9.6C19.6,62.3,19.5,62.3,19.5,62.3z M71.8,134.6c5.9,0.2,10.3-3.9,10.4-9.6\n",
              "                    c0.5-5.5-3.6-10.4-9.1-10.8c-5.5-0.5-10.4,3.6-10.8,9.1c0,0.5,0,0.9,0,1.4c-0.2,5.3,4,9.8,9.3,10\n",
              "                    C71.6,134.6,71.7,134.6,71.8,134.6z\"/>\n",
              "            </g>\n",
              "        </svg>\n",
              "        <table>\n",
              "            <tr>\n",
              "                <td style=\"text-align: left\"><b>Python version:</b></td>\n",
              "                <td style=\"text-align: left\"><b>3.10.12</b></td>\n",
              "            </tr>\n",
              "            <tr>\n",
              "                <td style=\"text-align: left\"><b>Ray version:</b></td>\n",
              "                <td style=\"text-align: left\"><b> 2.4.0</b></td>\n",
              "            </tr>\n",
              "            <tr>\n",
              "                <td style=\"text-align: left\"><b>Vertex SDK version:</b></td>\n",
              "                <td style=\"text-align: left\"><b> 1.33.1</b></td>\n",
              "            </tr>\n",
              "            <tr>\n",
              "                <td style=\"text-align: left\"><b>Dashboard:</b></td>\n",
              "                <td style=\"text-align: left\"><b><a href=\"https://c6e02b109cff463f-dot-us-central1.aiplatform-training.googleusercontent.com\" target=\"_blank\">c6e02b109cff463f-dot-us-central1.aiplatform-training.googleusercontent.com</a></b></td>\n",
              "            </tr>\n",
              "            <tr>\n",
              "    <td style=\"text-align: left\"><b>Interactive Terminal Uri:</b></td>\n",
              "    <td style=\"text-align: left\"><b><a href=\"https://0b79269e4838fec9-dot-us-central1.aiplatform-training.googleusercontent.com\" target=\"_blank\">0b79269e4838fec9-dot-us-central1.aiplatform-training.googleusercontent.com</a></b></td>\n",
              "</tr>\n",
              "            <tr>\n",
              "                <td style=\"text-align: left\"><b>Cluster Name:</b></td>\n",
              "                <td style=\"text-align: left\"><b> ray-cluster-20231008-145921</b></td>\n",
              "            </tr>\n",
              "        </table>\n",
              "    </div>\n",
              "</div>\n"
            ]
          },
          "metadata": {},
          "execution_count": 126
        }
      ]
    },
    {
      "cell_type": "code",
      "source": [
        "pprint(ray.cluster_resources())"
      ],
      "metadata": {
        "id": "GoZ4L_6rcoa-",
        "colab": {
          "base_uri": "https://localhost:8080/"
        },
        "outputId": "e34eb548-aee7-4435-f9f3-cbe6838a20a9"
      },
      "execution_count": null,
      "outputs": [
        {
          "output_type": "stream",
          "name": "stdout",
          "text": [
            "{'CPU': 15.0,\n",
            " 'memory': 60848505242.0,\n",
            " 'node:10.15.0.3': 1.0,\n",
            " 'node:10.15.0.4': 1.0,\n",
            " 'object_store_memory': 28079810150.0}\n"
          ]
        }
      ]
    },
    {
      "cell_type": "markdown",
      "source": [
        "### Distributed data ingestion from BigQuery"
      ],
      "metadata": {
        "id": "D9SQuXIZHxLU"
      }
    },
    {
      "cell_type": "code",
      "source": [
        "# with parallelism\n",
        "bq_dataset = ray.data.read_datasource(\n",
        "    BigQueryDatasource(),\n",
        "    query=QUERY,\n",
        "    parallelism=PARALLELISM,\n",
        ")"
      ],
      "metadata": {
        "id": "O3GdqKIlzWRq",
        "colab": {
          "base_uri": "https://localhost:8080/"
        },
        "outputId": "58104dc2-4009-4b3d-8052-1f4c2afafa9c"
      },
      "execution_count": null,
      "outputs": [
        {
          "output_type": "stream",
          "name": "stderr",
          "text": [
            "2023-10-10 07:22:25,750\tWARNING read_api.py:358 -- ⚠️  The number of blocks in this dataset (2) limits its parallelism to 2 concurrent tasks. This is much less than the number of available CPU slots in the cluster. Use `.repartition(n)` to increase the number of dataset blocks.\n"
          ]
        }
      ]
    },
    {
      "cell_type": "code",
      "source": [
        "# preprocess\n",
        "bq_train_dataset, bq_valid_dataset = bq_dataset.train_test_split(test_size=0.3, seed=8)"
      ],
      "metadata": {
        "colab": {
          "base_uri": "https://localhost:8080/",
          "height": 72,
          "referenced_widgets": [
            "8d53c75481c34210862581246bc45de1",
            "4e84885362ed424b9cc723daa1dbea59",
            "3fa1d926050040fda94dd1c08acb0439",
            "ea28fa66a9174e6e9b40b7ed3725c080",
            "cdbb1892c1bd4175bbf51c08692bcef0",
            "af6ac431ed3840ad9427ad9234baad82",
            "7ee4ec06afc54865ae33b6a7f3c022b6",
            "c4db5529ae08459b8e4cdf8f2d5a9aa3",
            "f0facccb1ab349a4851869736ae1cb1f",
            "553c0a68b82e4c67a5ea2724577a8f38",
            "9a9965dab97f487c88488aa0789c4218",
            "adb498bf177442a49666f9c2620a9f99",
            "fdeea0751c434a7b93308771b897c912",
            "6c3872f763784d488afb66504e0d9d6f",
            "4e158ece137f4f3c8a2fa05e6658b434",
            "02649f130ed54827ab1ab8f3c0c03bac",
            "5edb6ee7c6ff448c857953b3b851dcbf",
            "d2108e8bc3754b9280874cc6f8439800",
            "5a4e3b9340164156908c64574b8832f0",
            "db961dbf26d0447ba3277a2c9e5049fe",
            "8d3477fc69ed4dc9bf26978bb6335a11",
            "27a81c67cb6b416dbe35941f08b00eed"
          ]
        },
        "id": "BXCwiViHDkKH",
        "outputId": "a21fb854-3190-4bdd-c9c9-4b824f77820d"
      },
      "execution_count": null,
      "outputs": [
        {
          "output_type": "display_data",
          "data": {
            "text/plain": [
              "Read progress 0:   0%|          | 0/2 [00:00<?, ?it/s]"
            ],
            "application/vnd.jupyter.widget-view+json": {
              "version_major": 2,
              "version_minor": 0,
              "model_id": "8d53c75481c34210862581246bc45de1"
            }
          },
          "metadata": {}
        },
        {
          "output_type": "stream",
          "name": "stdout",
          "text": [
            "\u001b[2m\u001b[36m(_get_read_tasks pid=22391)\u001b[0m [Ray on Vertex AI]: Created streams: 2\n",
            "\u001b[2m\u001b[36m(_get_read_tasks pid=22391)\u001b[0m [Ray on Vertex AI]: The number of streams created by the BigQuery Storage Read API is less than the requested parallelism due to the size of the dataset.\n"
          ]
        },
        {
          "output_type": "display_data",
          "data": {
            "text/plain": [
              "Read progress 0:   0%|          | 0/2 [00:00<?, ?it/s]"
            ],
            "application/vnd.jupyter.widget-view+json": {
              "version_major": 2,
              "version_minor": 0,
              "model_id": "adb498bf177442a49666f9c2620a9f99"
            }
          },
          "metadata": {}
        }
      ]
    },
    {
      "cell_type": "markdown",
      "source": [
        "###  Distributed training with XGBoost model"
      ],
      "metadata": {
        "id": "k-1c_xNsfDzu"
      }
    },
    {
      "cell_type": "code",
      "source": [
        "id = \"\".join(random.sample(str(uuid.uuid4()), 5))\n",
        "\n",
        "# xgboost configuration\n",
        "xgboost_config = {\n",
        "  \"objective\": \"binary:logistic\",\n",
        "  \"eval_metric\": [\"logloss\", \"error\"],\n",
        "  \"num_boost_round\": 20,\n",
        "}\n",
        "xgboost_config[\"tree_method\"] = \"gpu_hist\" if 'GPU' in ray.cluster_resources().keys() else \"hist\"\n",
        "\n",
        "# scaling config\n",
        "scaling_config = ScalingConfig(\n",
        "  num_workers=2,\n",
        "  use_gpu=True if 'GPU' in ray.cluster_resources().keys() else False,\n",
        ")\n",
        "\n",
        "# run config\n",
        "run_config = RunConfig(\n",
        "  checkpoint_config=CheckpointConfig(\n",
        "    num_to_keep=None\n",
        "  ),\n",
        "  sync_config=SyncConfig(\n",
        "      upload_dir=TRAIN_FOLDER_URI\n",
        "  ),\n",
        "  name=f\"train-xgb-on-rov-{id}\",\n",
        ")\n",
        "\n",
        "# train\n",
        "trainer = XGBoostTrainer(\n",
        "  scaling_config=scaling_config,\n",
        "  run_config=run_config,\n",
        "  label_column=\"Class\",\n",
        "  num_boost_round=20,\n",
        "  params=xgboost_config,\n",
        "  datasets={\"train\": bq_train_dataset, \"valid\": bq_valid_dataset},\n",
        ")"
      ],
      "metadata": {
        "id": "_kc6wwhX2FuZ"
      },
      "execution_count": null,
      "outputs": []
    },
    {
      "cell_type": "code",
      "source": [
        "result = trainer.fit()"
      ],
      "metadata": {
        "colab": {
          "base_uri": "https://localhost:8080/",
          "height": 1000
        },
        "id": "2q60T4vfE_Ht",
        "outputId": "c1ab4d53-098f-4162-c009-6b3952da1d9e"
      },
      "execution_count": null,
      "outputs": [
        {
          "output_type": "display_data",
          "data": {
            "text/plain": [
              "<IPython.core.display.HTML object>"
            ],
            "text/html": [
              "<div class=\"tuneStatus\">\n",
              "  <div style=\"display: flex;flex-direction: row\">\n",
              "    <div style=\"display: flex;flex-direction: column;\">\n",
              "      <h3>Tune Status</h3>\n",
              "      <table>\n",
              "<tbody>\n",
              "<tr><td>Current time:</td><td>2023-10-10 07:22:48</td></tr>\n",
              "<tr><td>Running for: </td><td>00:00:15.00        </td></tr>\n",
              "<tr><td>Memory:      </td><td>3.3/58.9 GiB       </td></tr>\n",
              "</tbody>\n",
              "</table>\n",
              "    </div>\n",
              "    <div class=\"vDivider\"></div>\n",
              "    <div class=\"systemInfo\">\n",
              "      <h3>System Info</h3>\n",
              "      Using FIFO scheduling algorithm.<br>Logical resource usage: 0/15 CPUs, 0/0 GPUs\n",
              "    </div>\n",
              "    \n",
              "  </div>\n",
              "  <div class=\"hDivider\"></div>\n",
              "  <div class=\"trialStatus\">\n",
              "    <h3>Trial Status</h3>\n",
              "    <table>\n",
              "<thead>\n",
              "<tr><th>Trial name                </th><th>status    </th><th>loc            </th><th style=\"text-align: right;\">  iter</th><th style=\"text-align: right;\">  total time (s)</th><th style=\"text-align: right;\">  train-logloss</th><th style=\"text-align: right;\">  train-error</th><th style=\"text-align: right;\">  valid-logloss</th></tr>\n",
              "</thead>\n",
              "<tbody>\n",
              "<tr><td>XGBoostTrainer_c77ff_00000</td><td>TERMINATED</td><td>10.15.0.4:22666</td><td style=\"text-align: right;\">    21</td><td style=\"text-align: right;\">         8.92417</td><td style=\"text-align: right;\">      0.0011095</td><td style=\"text-align: right;\">            0</td><td style=\"text-align: right;\">      0.0402051</td></tr>\n",
              "</tbody>\n",
              "</table>\n",
              "  </div>\n",
              "</div>\n",
              "<style>\n",
              ".tuneStatus {\n",
              "  color: var(--jp-ui-font-color1);\n",
              "}\n",
              ".tuneStatus .systemInfo {\n",
              "  display: flex;\n",
              "  flex-direction: column;\n",
              "}\n",
              ".tuneStatus td {\n",
              "  white-space: nowrap;\n",
              "}\n",
              ".tuneStatus .trialStatus {\n",
              "  display: flex;\n",
              "  flex-direction: column;\n",
              "}\n",
              ".tuneStatus h3 {\n",
              "  font-weight: bold;\n",
              "}\n",
              ".tuneStatus .hDivider {\n",
              "  border-bottom-width: var(--jp-border-width);\n",
              "  border-bottom-color: var(--jp-border-color0);\n",
              "  border-bottom-style: solid;\n",
              "}\n",
              ".tuneStatus .vDivider {\n",
              "  border-left-width: var(--jp-border-width);\n",
              "  border-left-color: var(--jp-border-color0);\n",
              "  border-left-style: solid;\n",
              "  margin: 0.5em 1em 0.5em 1em;\n",
              "}\n",
              "</style>\n"
            ]
          },
          "metadata": {}
        },
        {
          "output_type": "stream",
          "name": "stderr",
          "text": [
            "\u001b[2m\u001b[36m(XGBoostTrainer pid=22666)\u001b[0m 2023-10-10 07:22:40,342\tINFO streaming_executor.py:83 -- Executing DAG InputDataBuffer[Input] -> AllToAllOperator[Repartition]\n",
            "\u001b[2m\u001b[36m(XGBoostTrainer pid=22666)\u001b[0m 2023-10-10 07:22:40,342\tINFO streaming_executor.py:84 -- Execution config: ExecutionOptions(resource_limits=ExecutionResources(cpu=None, gpu=None, object_store_memory=None), locality_with_output=False, preserve_order=False, actor_locality_enabled=True, verbose_progress=False)\n",
            "\u001b[2m\u001b[36m(XGBoostTrainer pid=22666)\u001b[0m 2023-10-10 07:22:43,254\tINFO tracker.py:218 -- start listen on 10.15.0.4:35617\n",
            "\u001b[2m\u001b[36m(_RemoteRayXGBoostActor pid=7000, ip=10.15.0.3)\u001b[0m [07:22:43] task [xgboost.ray]:138972929250192 got new rank 0\n",
            "\u001b[2m\u001b[36m(_RemoteRayXGBoostActor pid=7001, ip=10.15.0.3)\u001b[0m [07:22:43] task [xgboost.ray]:133763604780064 got new rank 1\n",
            "\u001b[2m\u001b[36m(XGBoostTrainer pid=22666)\u001b[0m 2023-10-10 07:22:43,528\tINFO tracker.py:382 -- @tracker All of 2 nodes getting started\n",
            "\u001b[2m\u001b[36m(_RemoteRayXGBoostActor pid=7000, ip=10.15.0.3)\u001b[0m /tmp/ray/session_2023-10-08_15-09-03_341832_8/runtime_resources/pip/a63b61af5387a4c6a0c6eb056911be6aa29d307c/virtualenv/lib/python3.10/site-packages/xgboost/data.py:312: FutureWarning: is_sparse is deprecated and will be removed in a future version. Check `isinstance(dtype, pd.SparseDtype)` instead.\n",
            "\u001b[2m\u001b[36m(_RemoteRayXGBoostActor pid=7000, ip=10.15.0.3)\u001b[0m   if is_sparse(dtype):\n",
            "\u001b[2m\u001b[36m(_RemoteRayXGBoostActor pid=7000, ip=10.15.0.3)\u001b[0m /tmp/ray/session_2023-10-08_15-09-03_341832_8/runtime_resources/pip/a63b61af5387a4c6a0c6eb056911be6aa29d307c/virtualenv/lib/python3.10/site-packages/xgboost/data.py:314: FutureWarning: is_categorical_dtype is deprecated and will be removed in a future version. Use isinstance(dtype, CategoricalDtype) instead\n",
            "\u001b[2m\u001b[36m(_RemoteRayXGBoostActor pid=7000, ip=10.15.0.3)\u001b[0m   elif is_categorical_dtype(dtype) and enable_categorical:\n",
            "\u001b[2m\u001b[36m(_RemoteRayXGBoostActor pid=7000, ip=10.15.0.3)\u001b[0m /tmp/ray/session_2023-10-08_15-09-03_341832_8/runtime_resources/pip/a63b61af5387a4c6a0c6eb056911be6aa29d307c/virtualenv/lib/python3.10/site-packages/xgboost/data.py:345: FutureWarning: is_categorical_dtype is deprecated and will be removed in a future version. Use isinstance(dtype, CategoricalDtype) instead\n",
            "\u001b[2m\u001b[36m(_RemoteRayXGBoostActor pid=7000, ip=10.15.0.3)\u001b[0m   if is_categorical_dtype(dtype)\n",
            "\u001b[2m\u001b[36m(_RemoteRayXGBoostActor pid=7000, ip=10.15.0.3)\u001b[0m /tmp/ray/session_2023-10-08_15-09-03_341832_8/runtime_resources/pip/a63b61af5387a4c6a0c6eb056911be6aa29d307c/virtualenv/lib/python3.10/site-packages/xgboost/data.py:336: FutureWarning: is_categorical_dtype is deprecated and will be removed in a future version. Use isinstance(dtype, CategoricalDtype) instead\n",
            "\u001b[2m\u001b[36m(_RemoteRayXGBoostActor pid=7000, ip=10.15.0.3)\u001b[0m   return is_int or is_bool or is_float or is_categorical_dtype(dtype)\n",
            "\u001b[2m\u001b[36m(_RemoteRayXGBoostActor pid=7001, ip=10.15.0.3)\u001b[0m /tmp/ray/session_2023-10-08_15-09-03_341832_8/runtime_resources/pip/a63b61af5387a4c6a0c6eb056911be6aa29d307c/virtualenv/lib/python3.10/site-packages/xgboost/data.py:312: FutureWarning: is_sparse is deprecated and will be removed in a future version. Check `isinstance(dtype, pd.SparseDtype)` instead.\n",
            "\u001b[2m\u001b[36m(_RemoteRayXGBoostActor pid=7001, ip=10.15.0.3)\u001b[0m   if is_sparse(dtype):\n",
            "\u001b[2m\u001b[36m(_RemoteRayXGBoostActor pid=7001, ip=10.15.0.3)\u001b[0m /tmp/ray/session_2023-10-08_15-09-03_341832_8/runtime_resources/pip/a63b61af5387a4c6a0c6eb056911be6aa29d307c/virtualenv/lib/python3.10/site-packages/xgboost/data.py:314: FutureWarning: is_categorical_dtype is deprecated and will be removed in a future version. Use isinstance(dtype, CategoricalDtype) instead\n",
            "\u001b[2m\u001b[36m(_RemoteRayXGBoostActor pid=7001, ip=10.15.0.3)\u001b[0m   elif is_categorical_dtype(dtype) and enable_categorical:\n",
            "\u001b[2m\u001b[36m(_RemoteRayXGBoostActor pid=7001, ip=10.15.0.3)\u001b[0m /tmp/ray/session_2023-10-08_15-09-03_341832_8/runtime_resources/pip/a63b61af5387a4c6a0c6eb056911be6aa29d307c/virtualenv/lib/python3.10/site-packages/xgboost/data.py:345: FutureWarning: is_categorical_dtype is deprecated and will be removed in a future version. Use isinstance(dtype, CategoricalDtype) instead\n",
            "\u001b[2m\u001b[36m(_RemoteRayXGBoostActor pid=7001, ip=10.15.0.3)\u001b[0m   if is_categorical_dtype(dtype)\n",
            "\u001b[2m\u001b[36m(_RemoteRayXGBoostActor pid=7001, ip=10.15.0.3)\u001b[0m /tmp/ray/session_2023-10-08_15-09-03_341832_8/runtime_resources/pip/a63b61af5387a4c6a0c6eb056911be6aa29d307c/virtualenv/lib/python3.10/site-packages/xgboost/data.py:336: FutureWarning: is_categorical_dtype is deprecated and will be removed in a future version. Use isinstance(dtype, CategoricalDtype) instead\n",
            "\u001b[2m\u001b[36m(_RemoteRayXGBoostActor pid=7001, ip=10.15.0.3)\u001b[0m   return is_int or is_bool or is_float or is_categorical_dtype(dtype)\n",
            "\u001b[2m\u001b[36m(_RemoteRayXGBoostActor pid=7000, ip=10.15.0.3)\u001b[0m /tmp/ray/session_2023-10-08_15-09-03_341832_8/runtime_resources/pip/a63b61af5387a4c6a0c6eb056911be6aa29d307c/virtualenv/lib/python3.10/site-packages/xgboost/data.py:440: FutureWarning: is_sparse is deprecated and will be removed in a future version. Check `isinstance(dtype, pd.SparseDtype)` instead.\n",
            "\u001b[2m\u001b[36m(_RemoteRayXGBoostActor pid=7000, ip=10.15.0.3)\u001b[0m   if is_sparse(data):\n",
            "\u001b[2m\u001b[36m(_RemoteRayXGBoostActor pid=7000, ip=10.15.0.3)\u001b[0m /tmp/ray/session_2023-10-08_15-09-03_341832_8/runtime_resources/pip/a63b61af5387a4c6a0c6eb056911be6aa29d307c/virtualenv/lib/python3.10/site-packages/xgboost/data.py:312: FutureWarning: is_sparse is deprecated and will be removed in a future version. Check `isinstance(dtype, pd.SparseDtype)` instead.\n",
            "\u001b[2m\u001b[36m(_RemoteRayXGBoostActor pid=7000, ip=10.15.0.3)\u001b[0m   if is_sparse(dtype):\n",
            "\u001b[2m\u001b[36m(_RemoteRayXGBoostActor pid=7000, ip=10.15.0.3)\u001b[0m /tmp/ray/session_2023-10-08_15-09-03_341832_8/runtime_resources/pip/a63b61af5387a4c6a0c6eb056911be6aa29d307c/virtualenv/lib/python3.10/site-packages/xgboost/data.py:314: FutureWarning: is_categorical_dtype is deprecated and will be removed in a future version. Use isinstance(dtype, CategoricalDtype) instead\n",
            "\u001b[2m\u001b[36m(_RemoteRayXGBoostActor pid=7000, ip=10.15.0.3)\u001b[0m   elif is_categorical_dtype(dtype) and enable_categorical:\n",
            "\u001b[2m\u001b[36m(_RemoteRayXGBoostActor pid=7000, ip=10.15.0.3)\u001b[0m /tmp/ray/session_2023-10-08_15-09-03_341832_8/runtime_resources/pip/a63b61af5387a4c6a0c6eb056911be6aa29d307c/virtualenv/lib/python3.10/site-packages/xgboost/data.py:345: FutureWarning: is_categorical_dtype is deprecated and will be removed in a future version. Use isinstance(dtype, CategoricalDtype) instead\n",
            "\u001b[2m\u001b[36m(_RemoteRayXGBoostActor pid=7000, ip=10.15.0.3)\u001b[0m   if is_categorical_dtype(dtype)\n",
            "\u001b[2m\u001b[36m(_RemoteRayXGBoostActor pid=7000, ip=10.15.0.3)\u001b[0m /tmp/ray/session_2023-10-08_15-09-03_341832_8/runtime_resources/pip/a63b61af5387a4c6a0c6eb056911be6aa29d307c/virtualenv/lib/python3.10/site-packages/xgboost/data.py:336: FutureWarning: is_categorical_dtype is deprecated and will be removed in a future version. Use isinstance(dtype, CategoricalDtype) instead\n",
            "\u001b[2m\u001b[36m(_RemoteRayXGBoostActor pid=7000, ip=10.15.0.3)\u001b[0m   return is_int or is_bool or is_float or is_categorical_dtype(dtype)\n",
            "\u001b[2m\u001b[36m(_RemoteRayXGBoostActor pid=7001, ip=10.15.0.3)\u001b[0m /tmp/ray/session_2023-10-08_15-09-03_341832_8/runtime_resources/pip/a63b61af5387a4c6a0c6eb056911be6aa29d307c/virtualenv/lib/python3.10/site-packages/xgboost/data.py:440: FutureWarning: is_sparse is deprecated and will be removed in a future version. Check `isinstance(dtype, pd.SparseDtype)` instead.\n",
            "\u001b[2m\u001b[36m(_RemoteRayXGBoostActor pid=7001, ip=10.15.0.3)\u001b[0m   if is_sparse(data):\n",
            "\u001b[2m\u001b[36m(_RemoteRayXGBoostActor pid=7001, ip=10.15.0.3)\u001b[0m /tmp/ray/session_2023-10-08_15-09-03_341832_8/runtime_resources/pip/a63b61af5387a4c6a0c6eb056911be6aa29d307c/virtualenv/lib/python3.10/site-packages/xgboost/data.py:312: FutureWarning: is_sparse is deprecated and will be removed in a future version. Check `isinstance(dtype, pd.SparseDtype)` instead.\n",
            "\u001b[2m\u001b[36m(_RemoteRayXGBoostActor pid=7001, ip=10.15.0.3)\u001b[0m   if is_sparse(dtype):\n",
            "\u001b[2m\u001b[36m(_RemoteRayXGBoostActor pid=7001, ip=10.15.0.3)\u001b[0m /tmp/ray/session_2023-10-08_15-09-03_341832_8/runtime_resources/pip/a63b61af5387a4c6a0c6eb056911be6aa29d307c/virtualenv/lib/python3.10/site-packages/xgboost/data.py:314: FutureWarning: is_categorical_dtype is deprecated and will be removed in a future version. Use isinstance(dtype, CategoricalDtype) instead\n",
            "\u001b[2m\u001b[36m(_RemoteRayXGBoostActor pid=7001, ip=10.15.0.3)\u001b[0m   elif is_categorical_dtype(dtype) and enable_categorical:\n",
            "\u001b[2m\u001b[36m(_RemoteRayXGBoostActor pid=7001, ip=10.15.0.3)\u001b[0m /tmp/ray/session_2023-10-08_15-09-03_341832_8/runtime_resources/pip/a63b61af5387a4c6a0c6eb056911be6aa29d307c/virtualenv/lib/python3.10/site-packages/xgboost/data.py:345: FutureWarning: is_categorical_dtype is deprecated and will be removed in a future version. Use isinstance(dtype, CategoricalDtype) instead\n",
            "\u001b[2m\u001b[36m(_RemoteRayXGBoostActor pid=7001, ip=10.15.0.3)\u001b[0m   if is_categorical_dtype(dtype)\n",
            "\u001b[2m\u001b[36m(_RemoteRayXGBoostActor pid=7001, ip=10.15.0.3)\u001b[0m /tmp/ray/session_2023-10-08_15-09-03_341832_8/runtime_resources/pip/a63b61af5387a4c6a0c6eb056911be6aa29d307c/virtualenv/lib/python3.10/site-packages/xgboost/data.py:336: FutureWarning: is_categorical_dtype is deprecated and will be removed in a future version. Use isinstance(dtype, CategoricalDtype) instead\n",
            "\u001b[2m\u001b[36m(_RemoteRayXGBoostActor pid=7001, ip=10.15.0.3)\u001b[0m   return is_int or is_bool or is_float or is_categorical_dtype(dtype)\n",
            "\u001b[2m\u001b[36m(_RemoteRayXGBoostActor pid=7000, ip=10.15.0.3)\u001b[0m /tmp/ray/session_2023-10-08_15-09-03_341832_8/runtime_resources/pip/a63b61af5387a4c6a0c6eb056911be6aa29d307c/virtualenv/lib/python3.10/site-packages/xgboost/data.py:440: FutureWarning: is_sparse is deprecated and will be removed in a future version. Check `isinstance(dtype, pd.SparseDtype)` instead.\n",
            "\u001b[2m\u001b[36m(_RemoteRayXGBoostActor pid=7000, ip=10.15.0.3)\u001b[0m   if is_sparse(data):\n",
            "\u001b[2m\u001b[36m(_RemoteRayXGBoostActor pid=7000, ip=10.15.0.3)\u001b[0m /tmp/ray/session_2023-10-08_15-09-03_341832_8/runtime_resources/pip/a63b61af5387a4c6a0c6eb056911be6aa29d307c/virtualenv/lib/python3.10/site-packages/xgboost/data.py:312: FutureWarning: is_sparse is deprecated and will be removed in a future version. Check `isinstance(dtype, pd.SparseDtype)` instead.\n",
            "\u001b[2m\u001b[36m(_RemoteRayXGBoostActor pid=7000, ip=10.15.0.3)\u001b[0m   if is_sparse(dtype):\n",
            "\u001b[2m\u001b[36m(_RemoteRayXGBoostActor pid=7000, ip=10.15.0.3)\u001b[0m /tmp/ray/session_2023-10-08_15-09-03_341832_8/runtime_resources/pip/a63b61af5387a4c6a0c6eb056911be6aa29d307c/virtualenv/lib/python3.10/site-packages/xgboost/data.py:314: FutureWarning: is_categorical_dtype is deprecated and will be removed in a future version. Use isinstance(dtype, CategoricalDtype) instead\n",
            "\u001b[2m\u001b[36m(_RemoteRayXGBoostActor pid=7000, ip=10.15.0.3)\u001b[0m   elif is_categorical_dtype(dtype) and enable_categorical:\n",
            "\u001b[2m\u001b[36m(_RemoteRayXGBoostActor pid=7000, ip=10.15.0.3)\u001b[0m /tmp/ray/session_2023-10-08_15-09-03_341832_8/runtime_resources/pip/a63b61af5387a4c6a0c6eb056911be6aa29d307c/virtualenv/lib/python3.10/site-packages/xgboost/data.py:345: FutureWarning: is_categorical_dtype is deprecated and will be removed in a future version. Use isinstance(dtype, CategoricalDtype) instead\n",
            "\u001b[2m\u001b[36m(_RemoteRayXGBoostActor pid=7000, ip=10.15.0.3)\u001b[0m   if is_categorical_dtype(dtype)\n",
            "\u001b[2m\u001b[36m(_RemoteRayXGBoostActor pid=7000, ip=10.15.0.3)\u001b[0m /tmp/ray/session_2023-10-08_15-09-03_341832_8/runtime_resources/pip/a63b61af5387a4c6a0c6eb056911be6aa29d307c/virtualenv/lib/python3.10/site-packages/xgboost/data.py:336: FutureWarning: is_categorical_dtype is deprecated and will be removed in a future version. Use isinstance(dtype, CategoricalDtype) instead\n",
            "\u001b[2m\u001b[36m(_RemoteRayXGBoostActor pid=7000, ip=10.15.0.3)\u001b[0m   return is_int or is_bool or is_float or is_categorical_dtype(dtype)\n",
            "\u001b[2m\u001b[36m(_RemoteRayXGBoostActor pid=7001, ip=10.15.0.3)\u001b[0m /tmp/ray/session_2023-10-08_15-09-03_341832_8/runtime_resources/pip/a63b61af5387a4c6a0c6eb056911be6aa29d307c/virtualenv/lib/python3.10/site-packages/xgboost/data.py:440: FutureWarning: is_sparse is deprecated and will be removed in a future version. Check `isinstance(dtype, pd.SparseDtype)` instead.\n",
            "\u001b[2m\u001b[36m(_RemoteRayXGBoostActor pid=7001, ip=10.15.0.3)\u001b[0m   if is_sparse(data):\n",
            "\u001b[2m\u001b[36m(_RemoteRayXGBoostActor pid=7001, ip=10.15.0.3)\u001b[0m /tmp/ray/session_2023-10-08_15-09-03_341832_8/runtime_resources/pip/a63b61af5387a4c6a0c6eb056911be6aa29d307c/virtualenv/lib/python3.10/site-packages/xgboost/data.py:312: FutureWarning: is_sparse is deprecated and will be removed in a future version. Check `isinstance(dtype, pd.SparseDtype)` instead.\n",
            "\u001b[2m\u001b[36m(_RemoteRayXGBoostActor pid=7001, ip=10.15.0.3)\u001b[0m   if is_sparse(dtype):\n",
            "\u001b[2m\u001b[36m(_RemoteRayXGBoostActor pid=7001, ip=10.15.0.3)\u001b[0m /tmp/ray/session_2023-10-08_15-09-03_341832_8/runtime_resources/pip/a63b61af5387a4c6a0c6eb056911be6aa29d307c/virtualenv/lib/python3.10/site-packages/xgboost/data.py:314: FutureWarning: is_categorical_dtype is deprecated and will be removed in a future version. Use isinstance(dtype, CategoricalDtype) instead\n",
            "\u001b[2m\u001b[36m(_RemoteRayXGBoostActor pid=7001, ip=10.15.0.3)\u001b[0m   elif is_categorical_dtype(dtype) and enable_categorical:\n",
            "\u001b[2m\u001b[36m(_RemoteRayXGBoostActor pid=7001, ip=10.15.0.3)\u001b[0m /tmp/ray/session_2023-10-08_15-09-03_341832_8/runtime_resources/pip/a63b61af5387a4c6a0c6eb056911be6aa29d307c/virtualenv/lib/python3.10/site-packages/xgboost/data.py:345: FutureWarning: is_categorical_dtype is deprecated and will be removed in a future version. Use isinstance(dtype, CategoricalDtype) instead\n",
            "\u001b[2m\u001b[36m(_RemoteRayXGBoostActor pid=7001, ip=10.15.0.3)\u001b[0m   if is_categorical_dtype(dtype)\n",
            "\u001b[2m\u001b[36m(_RemoteRayXGBoostActor pid=7001, ip=10.15.0.3)\u001b[0m /tmp/ray/session_2023-10-08_15-09-03_341832_8/runtime_resources/pip/a63b61af5387a4c6a0c6eb056911be6aa29d307c/virtualenv/lib/python3.10/site-packages/xgboost/data.py:336: FutureWarning: is_categorical_dtype is deprecated and will be removed in a future version. Use isinstance(dtype, CategoricalDtype) instead\n",
            "\u001b[2m\u001b[36m(_RemoteRayXGBoostActor pid=7001, ip=10.15.0.3)\u001b[0m   return is_int or is_bool or is_float or is_categorical_dtype(dtype)\n",
            "\u001b[2m\u001b[36m(_RemoteRayXGBoostActor pid=7000, ip=10.15.0.3)\u001b[0m /tmp/ray/session_2023-10-08_15-09-03_341832_8/runtime_resources/pip/a63b61af5387a4c6a0c6eb056911be6aa29d307c/virtualenv/lib/python3.10/site-packages/xgboost/data.py:440: FutureWarning: is_sparse is deprecated and will be removed in a future version. Check `isinstance(dtype, pd.SparseDtype)` instead.\n",
            "\u001b[2m\u001b[36m(_RemoteRayXGBoostActor pid=7000, ip=10.15.0.3)\u001b[0m   if is_sparse(data):\n",
            "\u001b[2m\u001b[36m(_RemoteRayXGBoostActor pid=7001, ip=10.15.0.3)\u001b[0m /tmp/ray/session_2023-10-08_15-09-03_341832_8/runtime_resources/pip/a63b61af5387a4c6a0c6eb056911be6aa29d307c/virtualenv/lib/python3.10/site-packages/xgboost/data.py:440: FutureWarning: is_sparse is deprecated and will be removed in a future version. Check `isinstance(dtype, pd.SparseDtype)` instead.\n",
            "\u001b[2m\u001b[36m(_RemoteRayXGBoostActor pid=7001, ip=10.15.0.3)\u001b[0m   if is_sparse(data):\n"
          ]
        },
        {
          "output_type": "stream",
          "name": "stdout",
          "text": [
            "\u001b[2m\u001b[36m(TunerInternal pid=22542)\u001b[0m Result for XGBoostTrainer_c77ff_00000:\n",
            "\u001b[2m\u001b[36m(TunerInternal pid=22542)\u001b[0m   date: 2023-10-10_07-22-45\n",
            "\u001b[2m\u001b[36m(TunerInternal pid=22542)\u001b[0m   done: false\n",
            "\u001b[2m\u001b[36m(TunerInternal pid=22542)\u001b[0m   hostname: gke-vertex-persistent-1008--head-node-9e64c6e4-m2gm\n",
            "\u001b[2m\u001b[36m(TunerInternal pid=22542)\u001b[0m   iterations_since_restore: 1\n",
            "\u001b[2m\u001b[36m(TunerInternal pid=22542)\u001b[0m   node_ip: 10.15.0.4\n",
            "\u001b[2m\u001b[36m(TunerInternal pid=22542)\u001b[0m   pid: 22666\n",
            "\u001b[2m\u001b[36m(TunerInternal pid=22542)\u001b[0m   time_since_restore: 7.933728456497192\n",
            "\u001b[2m\u001b[36m(TunerInternal pid=22542)\u001b[0m   time_this_iter_s: 7.933728456497192\n",
            "\u001b[2m\u001b[36m(TunerInternal pid=22542)\u001b[0m   time_total_s: 7.933728456497192\n",
            "\u001b[2m\u001b[36m(TunerInternal pid=22542)\u001b[0m   timestamp: 1696922565\n",
            "\u001b[2m\u001b[36m(TunerInternal pid=22542)\u001b[0m   train-error: 0.0\n",
            "\u001b[2m\u001b[36m(TunerInternal pid=22542)\u001b[0m   train-logloss: 0.4374922215938568\n",
            "\u001b[2m\u001b[36m(TunerInternal pid=22542)\u001b[0m   training_iteration: 1\n",
            "\u001b[2m\u001b[36m(TunerInternal pid=22542)\u001b[0m   trial_id: c77ff_00000\n",
            "\u001b[2m\u001b[36m(TunerInternal pid=22542)\u001b[0m   valid-error: 0.00574658832892489\n",
            "\u001b[2m\u001b[36m(TunerInternal pid=22542)\u001b[0m   valid-logloss: 0.44094010502471814\n",
            "\u001b[2m\u001b[36m(TunerInternal pid=22542)\u001b[0m   \n"
          ]
        },
        {
          "output_type": "stream",
          "name": "stderr",
          "text": [
            "\u001b[2m\u001b[36m(XGBoostTrainer pid=22666)\u001b[0m 2023-10-10 07:22:45,835\tINFO tracker.py:388 -- @tracker All nodes finishes job\n"
          ]
        },
        {
          "output_type": "stream",
          "name": "stdout",
          "text": [
            "\u001b[2m\u001b[36m(TunerInternal pid=22542)\u001b[0m Result for XGBoostTrainer_c77ff_00000:\n",
            "\u001b[2m\u001b[36m(TunerInternal pid=22542)\u001b[0m   date: 2023-10-10_07-22-46\n",
            "\u001b[2m\u001b[36m(TunerInternal pid=22542)\u001b[0m   done: true\n",
            "\u001b[2m\u001b[36m(TunerInternal pid=22542)\u001b[0m   experiment_tag: '0'\n",
            "\u001b[2m\u001b[36m(TunerInternal pid=22542)\u001b[0m   hostname: gke-vertex-persistent-1008--head-node-9e64c6e4-m2gm\n",
            "\u001b[2m\u001b[36m(TunerInternal pid=22542)\u001b[0m   iterations_since_restore: 21\n",
            "\u001b[2m\u001b[36m(TunerInternal pid=22542)\u001b[0m   node_ip: 10.15.0.4\n",
            "\u001b[2m\u001b[36m(TunerInternal pid=22542)\u001b[0m   pid: 22666\n",
            "\u001b[2m\u001b[36m(TunerInternal pid=22542)\u001b[0m   should_checkpoint: true\n",
            "\u001b[2m\u001b[36m(TunerInternal pid=22542)\u001b[0m   time_since_restore: 8.924169063568115\n",
            "\u001b[2m\u001b[36m(TunerInternal pid=22542)\u001b[0m   time_this_iter_s: 0.24509096145629883\n",
            "\u001b[2m\u001b[36m(TunerInternal pid=22542)\u001b[0m   time_total_s: 8.924169063568115\n",
            "\u001b[2m\u001b[36m(TunerInternal pid=22542)\u001b[0m   timestamp: 1696922566\n",
            "\u001b[2m\u001b[36m(TunerInternal pid=22542)\u001b[0m   train-error: 0.0\n",
            "\u001b[2m\u001b[36m(TunerInternal pid=22542)\u001b[0m   train-logloss: 0.00110950006637722\n",
            "\u001b[2m\u001b[36m(TunerInternal pid=22542)\u001b[0m   training_iteration: 21\n",
            "\u001b[2m\u001b[36m(TunerInternal pid=22542)\u001b[0m   trial_id: c77ff_00000\n",
            "\u001b[2m\u001b[36m(TunerInternal pid=22542)\u001b[0m   valid-error: 0.00574658832892489\n",
            "\u001b[2m\u001b[36m(TunerInternal pid=22542)\u001b[0m   valid-logloss: 0.04020513293782472\n",
            "\u001b[2m\u001b[36m(TunerInternal pid=22542)\u001b[0m   \n",
            "\u001b[2m\u001b[36m(TunerInternal pid=22542)\u001b[0m Trial XGBoostTrainer_c77ff_00000 completed.\n"
          ]
        },
        {
          "output_type": "stream",
          "name": "stderr",
          "text": [
            "\u001b[2m\u001b[36m(TunerInternal pid=22542)\u001b[0m 2023-10-10 07:22:48,399\tWARNING experiment_state.py:279 -- Experiment checkpoint syncing has been triggered multiple times in the last 30.0 seconds. A sync will be triggered whenever a trial has checkpointed more than `num_to_keep` times since last sync or if 300 seconds have passed since last sync. If you have set `num_to_keep` in your `CheckpointConfig`, consider increasing the checkpoint frequency or keeping more checkpoints. You can supress this warning by changing the `TUNE_WARN_EXCESSIVE_EXPERIMENT_CHECKPOINT_SYNC_THRESHOLD_S` environment variable.\n",
            "\u001b[2m\u001b[36m(TunerInternal pid=22542)\u001b[0m 2023-10-10 07:22:48,405\tINFO tune.py:945 -- Total run time: 15.13 seconds (13.25 seconds for the tuning loop).\n"
          ]
        }
      ]
    },
    {
      "cell_type": "code",
      "source": [
        "ray.shutdown()"
      ],
      "metadata": {
        "id": "PvJsDSnfGH6o"
      },
      "execution_count": null,
      "outputs": []
    },
    {
      "cell_type": "markdown",
      "source": [
        "### Deploy a XGBoost model on Vertex AI"
      ],
      "metadata": {
        "id": "830vcQjIfj2D"
      }
    },
    {
      "cell_type": "markdown",
      "source": [
        "#### Register the model in Vertex AI Model Registry"
      ],
      "metadata": {
        "id": "s9V9D7j6fv1v"
      }
    },
    {
      "cell_type": "code",
      "source": [
        "model_file_uri = result.checkpoint"
      ],
      "metadata": {
        "id": "IYISOuU7BRE8"
      },
      "execution_count": null,
      "outputs": []
    },
    {
      "cell_type": "code",
      "source": [
        "model = xgboost.register_xgboost(\n",
        "    XGBoostCheckpoint.from_checkpoint(result.checkpoint),\n",
        ")"
      ],
      "metadata": {
        "colab": {
          "base_uri": "https://localhost:8080/"
        },
        "id": "VdhgVK8XBhj8",
        "outputId": "116b2f68-2527-46a8-e27b-97bb27d00140"
      },
      "execution_count": null,
      "outputs": [
        {
          "output_type": "stream",
          "name": "stdout",
          "text": [
            "Creating Model\n"
          ]
        },
        {
          "output_type": "stream",
          "name": "stderr",
          "text": [
            "INFO:google.cloud.aiplatform.models:Creating Model\n"
          ]
        },
        {
          "output_type": "stream",
          "name": "stdout",
          "text": [
            "Create Model backing LRO: projects/661110192441/locations/us-central1/models/4149598664668479488/operations/7960164774338101248\n"
          ]
        },
        {
          "output_type": "stream",
          "name": "stderr",
          "text": [
            "INFO:google.cloud.aiplatform.models:Create Model backing LRO: projects/661110192441/locations/us-central1/models/4149598664668479488/operations/7960164774338101248\n"
          ]
        },
        {
          "output_type": "stream",
          "name": "stdout",
          "text": [
            "Model created. Resource name: projects/661110192441/locations/us-central1/models/4149598664668479488@1\n"
          ]
        },
        {
          "output_type": "stream",
          "name": "stderr",
          "text": [
            "INFO:google.cloud.aiplatform.models:Model created. Resource name: projects/661110192441/locations/us-central1/models/4149598664668479488@1\n"
          ]
        },
        {
          "output_type": "stream",
          "name": "stdout",
          "text": [
            "To use this Model in another session:\n"
          ]
        },
        {
          "output_type": "stream",
          "name": "stderr",
          "text": [
            "INFO:google.cloud.aiplatform.models:To use this Model in another session:\n"
          ]
        },
        {
          "output_type": "stream",
          "name": "stdout",
          "text": [
            "model = aiplatform.Model('projects/661110192441/locations/us-central1/models/4149598664668479488@1')\n"
          ]
        },
        {
          "output_type": "stream",
          "name": "stderr",
          "text": [
            "INFO:google.cloud.aiplatform.models:model = aiplatform.Model('projects/661110192441/locations/us-central1/models/4149598664668479488@1')\n"
          ]
        }
      ]
    },
    {
      "cell_type": "markdown",
      "source": [
        "#### Create a Vertex AI Endpoint"
      ],
      "metadata": {
        "id": "L74EpA67fzwy"
      }
    },
    {
      "cell_type": "code",
      "source": [
        "endpoint = vertex_ai.Endpoint.create(\n",
        "    display_name=ENDPOINT_NAME,\n",
        "    description=\"A simple endpoint for xgboost trained on Ray on Vertex AI\",\n",
        "    sync=True,\n",
        ")"
      ],
      "metadata": {
        "colab": {
          "base_uri": "https://localhost:8080/"
        },
        "id": "VB3na1rKBybX",
        "outputId": "00f4a687-d3a7-4795-e6e3-c927bb993da4"
      },
      "execution_count": null,
      "outputs": [
        {
          "output_type": "stream",
          "name": "stdout",
          "text": [
            "Creating Endpoint\n"
          ]
        },
        {
          "output_type": "stream",
          "name": "stderr",
          "text": [
            "INFO:google.cloud.aiplatform.models:Creating Endpoint\n"
          ]
        },
        {
          "output_type": "stream",
          "name": "stdout",
          "text": [
            "Create Endpoint backing LRO: projects/661110192441/locations/us-central1/endpoints/736499067772731392/operations/6216145818638876672\n"
          ]
        },
        {
          "output_type": "stream",
          "name": "stderr",
          "text": [
            "INFO:google.cloud.aiplatform.models:Create Endpoint backing LRO: projects/661110192441/locations/us-central1/endpoints/736499067772731392/operations/6216145818638876672\n"
          ]
        },
        {
          "output_type": "stream",
          "name": "stdout",
          "text": [
            "Endpoint created. Resource name: projects/661110192441/locations/us-central1/endpoints/736499067772731392\n"
          ]
        },
        {
          "output_type": "stream",
          "name": "stderr",
          "text": [
            "INFO:google.cloud.aiplatform.models:Endpoint created. Resource name: projects/661110192441/locations/us-central1/endpoints/736499067772731392\n"
          ]
        },
        {
          "output_type": "stream",
          "name": "stdout",
          "text": [
            "To use this Endpoint in another session:\n"
          ]
        },
        {
          "output_type": "stream",
          "name": "stderr",
          "text": [
            "INFO:google.cloud.aiplatform.models:To use this Endpoint in another session:\n"
          ]
        },
        {
          "output_type": "stream",
          "name": "stdout",
          "text": [
            "endpoint = aiplatform.Endpoint('projects/661110192441/locations/us-central1/endpoints/736499067772731392')\n"
          ]
        },
        {
          "output_type": "stream",
          "name": "stderr",
          "text": [
            "INFO:google.cloud.aiplatform.models:endpoint = aiplatform.Endpoint('projects/661110192441/locations/us-central1/endpoints/736499067772731392')\n"
          ]
        }
      ]
    },
    {
      "cell_type": "markdown",
      "source": [
        "#### Deploy the model to Vertex AI Endpoint"
      ],
      "metadata": {
        "id": "-jBfzsp_f2fg"
      }
    },
    {
      "cell_type": "code",
      "source": [
        "deployed_model = endpoint.deploy(\n",
        "    model=model,\n",
        "    deployed_model_display_name=DEPLOYED_MODEL_NAME,\n",
        "    traffic_split=TRAFFIC_SPLIT,\n",
        "    machine_type=MACHINE_TYPE,\n",
        "    min_replica_count=MIN_NODES,\n",
        "    max_replica_count=MAX_NODES,\n",
        "    sync = True,\n",
        ")"
      ],
      "metadata": {
        "colab": {
          "base_uri": "https://localhost:8080/"
        },
        "id": "cEkDfPv2CWDn",
        "outputId": "33db9419-235c-416c-f1e6-79f74f75191d"
      },
      "execution_count": null,
      "outputs": [
        {
          "output_type": "stream",
          "name": "stdout",
          "text": [
            "Deploying Model projects/661110192441/locations/us-central1/models/4149598664668479488 to Endpoint : projects/661110192441/locations/us-central1/endpoints/736499067772731392\n"
          ]
        },
        {
          "output_type": "stream",
          "name": "stderr",
          "text": [
            "INFO:google.cloud.aiplatform.models:Deploying Model projects/661110192441/locations/us-central1/models/4149598664668479488 to Endpoint : projects/661110192441/locations/us-central1/endpoints/736499067772731392\n"
          ]
        },
        {
          "output_type": "stream",
          "name": "stdout",
          "text": [
            "Deploy Endpoint model backing LRO: projects/661110192441/locations/us-central1/endpoints/736499067772731392/operations/7083088746907697152\n"
          ]
        },
        {
          "output_type": "stream",
          "name": "stderr",
          "text": [
            "INFO:google.cloud.aiplatform.models:Deploy Endpoint model backing LRO: projects/661110192441/locations/us-central1/endpoints/736499067772731392/operations/7083088746907697152\n"
          ]
        },
        {
          "output_type": "stream",
          "name": "stdout",
          "text": [
            "Endpoint model deployed. Resource name: projects/661110192441/locations/us-central1/endpoints/736499067772731392\n"
          ]
        },
        {
          "output_type": "stream",
          "name": "stderr",
          "text": [
            "INFO:google.cloud.aiplatform.models:Endpoint model deployed. Resource name: projects/661110192441/locations/us-central1/endpoints/736499067772731392\n"
          ]
        }
      ]
    },
    {
      "cell_type": "markdown",
      "source": [
        "### Generate predictions"
      ],
      "metadata": {
        "id": "CKOC09meFkVO"
      }
    },
    {
      "cell_type": "code",
      "source": [
        "instances = [\n",
        "  [-4.516, 1.171, 0.011, 1.063, 0.721, 1.094, -0.706, -4.826, -0.084, 1.583, 1.832, 0.539, -0.998, 0.516, 1.167, -0.967, 0.406, -0.568, 0.407, -0.638, 0.22, 0.386, -0.312, -0.271, 0.215, -0.314, -2.576, 0.565, 17.1],\n",
        "  [1.906, -0.503, -1.351, 0.148, 1.726, 4.076, -1.321, 1.126, 0.818, 0.23, -0.035, 0.297, 0.131, 0.137, 1.652, 0.745, -1.069, 0.293, -0.994, -0.131, 0.122, 0.297, 0.311, 0.653, -0.341, -0.735, 0.09, -0.023, 17.1],\n",
        "  [-3.3, -1.245, 1.475, 0.545, 1.398, -0.048, -0.321, 0.551, 0.091, -0.427, 0.947, 0.876, -0.858, 0.1, -1.162, -0.396, 0.051, -0.703, -1.229, -0.449, 0.064, 0.244, -0.685, -0.245, 0.52, -0.443, -0.72, 0.133, 17.1]\n",
        "]"
      ],
      "metadata": {
        "id": "L7oppg36Fon-"
      },
      "execution_count": null,
      "outputs": []
    },
    {
      "cell_type": "code",
      "source": [
        "predictions = endpoint.predict(instances=instances).predictions\n",
        "print(predictions)"
      ],
      "metadata": {
        "colab": {
          "base_uri": "https://localhost:8080/"
        },
        "id": "GBNp42a2Hbpb",
        "outputId": "6b687827-f1f5-4bf3-97a3-f9ecfd9581c6"
      },
      "execution_count": null,
      "outputs": [
        {
          "output_type": "stream",
          "name": "stdout",
          "text": [
            "[0.00110890029463917, 0.00110890029463917, 0.00110890029463917]\n"
          ]
        }
      ]
    },
    {
      "cell_type": "markdown",
      "metadata": {
        "id": "Gto9KlTsnGKP"
      },
      "source": [
        "## Cleaning up\n",
        "\n",
        "To clean up all Google Cloud resources used in this project, you can [delete the Google Cloud\n",
        "project](https://cloud.google.com/resource-manager/docs/creating-managing-projects#shutting_down_projects) you used for the tutorial.\n",
        "\n",
        "Otherwise, you can delete the individual resources you created in this tutorial."
      ]
    },
    {
      "cell_type": "code",
      "execution_count": null,
      "metadata": {
        "id": "7-txWsypnGKP",
        "colab": {
          "base_uri": "https://localhost:8080/"
        },
        "outputId": "7d03099c-ea88-4347-cd25-7d23d82f1d9c"
      },
      "outputs": [
        {
          "output_type": "stream",
          "name": "stdout",
          "text": [
            "BucketNotFoundException: 404 gs://ray-on-vertex-20231010-043918 bucket does not exist.\n",
            "CommandException: Encountered non-existent bucket during listing\n"
          ]
        }
      ],
      "source": [
        "import os\n",
        "\n",
        "delete_bucket = True\n",
        "delete_bigquery_dataset = True\n",
        "delete_endpoint = True\n",
        "delete_model = True\n",
        "\n",
        "\n",
        "if delete_bucket or os.getenv(\"IS_TESTING\"):\n",
        "    ! gsutil -m rm -r {BUCKET_URI}\n",
        "\n",
        "if delete_bigquery_dataset or os.getenv(\"IS_TESTING\"):\n",
        "    ! bq rm -f {PROJECT_ID}.{DATASET_ID}\n",
        "\n",
        "if delete_endpoint or os.getenv(\"IS_TESTING\"):\n",
        "    endpoint.delete(force=True)\n",
        "\n",
        "if delete_model or os.getenv(\"IS_TESTING\"):\n",
        "    model.delete()"
      ]
    }
  ],
  "metadata": {
    "colab": {
      "provenance": [],
      "toc_visible": true
    },
    "kernelspec": {
      "display_name": "Python 3",
      "name": "python3"
    },
    "widgets": {
      "application/vnd.jupyter.widget-state+json": {
        "8d53c75481c34210862581246bc45de1": {
          "model_module": "@jupyter-widgets/controls",
          "model_name": "HBoxModel",
          "model_module_version": "1.5.0",
          "state": {
            "_dom_classes": [],
            "_model_module": "@jupyter-widgets/controls",
            "_model_module_version": "1.5.0",
            "_model_name": "HBoxModel",
            "_view_count": null,
            "_view_module": "@jupyter-widgets/controls",
            "_view_module_version": "1.5.0",
            "_view_name": "HBoxView",
            "box_style": "",
            "children": [
              "IPY_MODEL_4e84885362ed424b9cc723daa1dbea59",
              "IPY_MODEL_3fa1d926050040fda94dd1c08acb0439",
              "IPY_MODEL_ea28fa66a9174e6e9b40b7ed3725c080"
            ],
            "layout": "IPY_MODEL_cdbb1892c1bd4175bbf51c08692bcef0"
          }
        },
        "4e84885362ed424b9cc723daa1dbea59": {
          "model_module": "@jupyter-widgets/controls",
          "model_name": "HTMLModel",
          "model_module_version": "1.5.0",
          "state": {
            "_dom_classes": [],
            "_model_module": "@jupyter-widgets/controls",
            "_model_module_version": "1.5.0",
            "_model_name": "HTMLModel",
            "_view_count": null,
            "_view_module": "@jupyter-widgets/controls",
            "_view_module_version": "1.5.0",
            "_view_name": "HTMLView",
            "description": "",
            "description_tooltip": null,
            "layout": "IPY_MODEL_af6ac431ed3840ad9427ad9234baad82",
            "placeholder": "​",
            "style": "IPY_MODEL_7ee4ec06afc54865ae33b6a7f3c022b6",
            "value": "Read progress 0: 100%"
          }
        },
        "3fa1d926050040fda94dd1c08acb0439": {
          "model_module": "@jupyter-widgets/controls",
          "model_name": "FloatProgressModel",
          "model_module_version": "1.5.0",
          "state": {
            "_dom_classes": [],
            "_model_module": "@jupyter-widgets/controls",
            "_model_module_version": "1.5.0",
            "_model_name": "FloatProgressModel",
            "_view_count": null,
            "_view_module": "@jupyter-widgets/controls",
            "_view_module_version": "1.5.0",
            "_view_name": "ProgressView",
            "bar_style": "",
            "description": "",
            "description_tooltip": null,
            "layout": "IPY_MODEL_c4db5529ae08459b8e4cdf8f2d5a9aa3",
            "max": 2,
            "min": 0,
            "orientation": "horizontal",
            "style": "IPY_MODEL_f0facccb1ab349a4851869736ae1cb1f",
            "value": 2
          }
        },
        "ea28fa66a9174e6e9b40b7ed3725c080": {
          "model_module": "@jupyter-widgets/controls",
          "model_name": "HTMLModel",
          "model_module_version": "1.5.0",
          "state": {
            "_dom_classes": [],
            "_model_module": "@jupyter-widgets/controls",
            "_model_module_version": "1.5.0",
            "_model_name": "HTMLModel",
            "_view_count": null,
            "_view_module": "@jupyter-widgets/controls",
            "_view_module_version": "1.5.0",
            "_view_name": "HTMLView",
            "description": "",
            "description_tooltip": null,
            "layout": "IPY_MODEL_553c0a68b82e4c67a5ea2724577a8f38",
            "placeholder": "​",
            "style": "IPY_MODEL_9a9965dab97f487c88488aa0789c4218",
            "value": " 2/2 [00:03&lt;00:00,  1.62s/it]"
          }
        },
        "cdbb1892c1bd4175bbf51c08692bcef0": {
          "model_module": "@jupyter-widgets/base",
          "model_name": "LayoutModel",
          "model_module_version": "1.2.0",
          "state": {
            "_model_module": "@jupyter-widgets/base",
            "_model_module_version": "1.2.0",
            "_model_name": "LayoutModel",
            "_view_count": null,
            "_view_module": "@jupyter-widgets/base",
            "_view_module_version": "1.2.0",
            "_view_name": "LayoutView",
            "align_content": null,
            "align_items": null,
            "align_self": null,
            "border": null,
            "bottom": null,
            "display": null,
            "flex": null,
            "flex_flow": null,
            "grid_area": null,
            "grid_auto_columns": null,
            "grid_auto_flow": null,
            "grid_auto_rows": null,
            "grid_column": null,
            "grid_gap": null,
            "grid_row": null,
            "grid_template_areas": null,
            "grid_template_columns": null,
            "grid_template_rows": null,
            "height": null,
            "justify_content": null,
            "justify_items": null,
            "left": null,
            "margin": null,
            "max_height": null,
            "max_width": null,
            "min_height": null,
            "min_width": null,
            "object_fit": null,
            "object_position": null,
            "order": null,
            "overflow": null,
            "overflow_x": null,
            "overflow_y": null,
            "padding": null,
            "right": null,
            "top": null,
            "visibility": "hidden",
            "width": null
          }
        },
        "af6ac431ed3840ad9427ad9234baad82": {
          "model_module": "@jupyter-widgets/base",
          "model_name": "LayoutModel",
          "model_module_version": "1.2.0",
          "state": {
            "_model_module": "@jupyter-widgets/base",
            "_model_module_version": "1.2.0",
            "_model_name": "LayoutModel",
            "_view_count": null,
            "_view_module": "@jupyter-widgets/base",
            "_view_module_version": "1.2.0",
            "_view_name": "LayoutView",
            "align_content": null,
            "align_items": null,
            "align_self": null,
            "border": null,
            "bottom": null,
            "display": null,
            "flex": null,
            "flex_flow": null,
            "grid_area": null,
            "grid_auto_columns": null,
            "grid_auto_flow": null,
            "grid_auto_rows": null,
            "grid_column": null,
            "grid_gap": null,
            "grid_row": null,
            "grid_template_areas": null,
            "grid_template_columns": null,
            "grid_template_rows": null,
            "height": null,
            "justify_content": null,
            "justify_items": null,
            "left": null,
            "margin": null,
            "max_height": null,
            "max_width": null,
            "min_height": null,
            "min_width": null,
            "object_fit": null,
            "object_position": null,
            "order": null,
            "overflow": null,
            "overflow_x": null,
            "overflow_y": null,
            "padding": null,
            "right": null,
            "top": null,
            "visibility": null,
            "width": null
          }
        },
        "7ee4ec06afc54865ae33b6a7f3c022b6": {
          "model_module": "@jupyter-widgets/controls",
          "model_name": "DescriptionStyleModel",
          "model_module_version": "1.5.0",
          "state": {
            "_model_module": "@jupyter-widgets/controls",
            "_model_module_version": "1.5.0",
            "_model_name": "DescriptionStyleModel",
            "_view_count": null,
            "_view_module": "@jupyter-widgets/base",
            "_view_module_version": "1.2.0",
            "_view_name": "StyleView",
            "description_width": ""
          }
        },
        "c4db5529ae08459b8e4cdf8f2d5a9aa3": {
          "model_module": "@jupyter-widgets/base",
          "model_name": "LayoutModel",
          "model_module_version": "1.2.0",
          "state": {
            "_model_module": "@jupyter-widgets/base",
            "_model_module_version": "1.2.0",
            "_model_name": "LayoutModel",
            "_view_count": null,
            "_view_module": "@jupyter-widgets/base",
            "_view_module_version": "1.2.0",
            "_view_name": "LayoutView",
            "align_content": null,
            "align_items": null,
            "align_self": null,
            "border": null,
            "bottom": null,
            "display": null,
            "flex": null,
            "flex_flow": null,
            "grid_area": null,
            "grid_auto_columns": null,
            "grid_auto_flow": null,
            "grid_auto_rows": null,
            "grid_column": null,
            "grid_gap": null,
            "grid_row": null,
            "grid_template_areas": null,
            "grid_template_columns": null,
            "grid_template_rows": null,
            "height": null,
            "justify_content": null,
            "justify_items": null,
            "left": null,
            "margin": null,
            "max_height": null,
            "max_width": null,
            "min_height": null,
            "min_width": null,
            "object_fit": null,
            "object_position": null,
            "order": null,
            "overflow": null,
            "overflow_x": null,
            "overflow_y": null,
            "padding": null,
            "right": null,
            "top": null,
            "visibility": null,
            "width": null
          }
        },
        "f0facccb1ab349a4851869736ae1cb1f": {
          "model_module": "@jupyter-widgets/controls",
          "model_name": "ProgressStyleModel",
          "model_module_version": "1.5.0",
          "state": {
            "_model_module": "@jupyter-widgets/controls",
            "_model_module_version": "1.5.0",
            "_model_name": "ProgressStyleModel",
            "_view_count": null,
            "_view_module": "@jupyter-widgets/base",
            "_view_module_version": "1.2.0",
            "_view_name": "StyleView",
            "bar_color": null,
            "description_width": ""
          }
        },
        "553c0a68b82e4c67a5ea2724577a8f38": {
          "model_module": "@jupyter-widgets/base",
          "model_name": "LayoutModel",
          "model_module_version": "1.2.0",
          "state": {
            "_model_module": "@jupyter-widgets/base",
            "_model_module_version": "1.2.0",
            "_model_name": "LayoutModel",
            "_view_count": null,
            "_view_module": "@jupyter-widgets/base",
            "_view_module_version": "1.2.0",
            "_view_name": "LayoutView",
            "align_content": null,
            "align_items": null,
            "align_self": null,
            "border": null,
            "bottom": null,
            "display": null,
            "flex": null,
            "flex_flow": null,
            "grid_area": null,
            "grid_auto_columns": null,
            "grid_auto_flow": null,
            "grid_auto_rows": null,
            "grid_column": null,
            "grid_gap": null,
            "grid_row": null,
            "grid_template_areas": null,
            "grid_template_columns": null,
            "grid_template_rows": null,
            "height": null,
            "justify_content": null,
            "justify_items": null,
            "left": null,
            "margin": null,
            "max_height": null,
            "max_width": null,
            "min_height": null,
            "min_width": null,
            "object_fit": null,
            "object_position": null,
            "order": null,
            "overflow": null,
            "overflow_x": null,
            "overflow_y": null,
            "padding": null,
            "right": null,
            "top": null,
            "visibility": null,
            "width": null
          }
        },
        "9a9965dab97f487c88488aa0789c4218": {
          "model_module": "@jupyter-widgets/controls",
          "model_name": "DescriptionStyleModel",
          "model_module_version": "1.5.0",
          "state": {
            "_model_module": "@jupyter-widgets/controls",
            "_model_module_version": "1.5.0",
            "_model_name": "DescriptionStyleModel",
            "_view_count": null,
            "_view_module": "@jupyter-widgets/base",
            "_view_module_version": "1.2.0",
            "_view_name": "StyleView",
            "description_width": ""
          }
        },
        "adb498bf177442a49666f9c2620a9f99": {
          "model_module": "@jupyter-widgets/controls",
          "model_name": "HBoxModel",
          "model_module_version": "1.5.0",
          "state": {
            "_dom_classes": [],
            "_model_module": "@jupyter-widgets/controls",
            "_model_module_version": "1.5.0",
            "_model_name": "HBoxModel",
            "_view_count": null,
            "_view_module": "@jupyter-widgets/controls",
            "_view_module_version": "1.5.0",
            "_view_name": "HBoxView",
            "box_style": "",
            "children": [
              "IPY_MODEL_fdeea0751c434a7b93308771b897c912",
              "IPY_MODEL_6c3872f763784d488afb66504e0d9d6f",
              "IPY_MODEL_4e158ece137f4f3c8a2fa05e6658b434"
            ],
            "layout": "IPY_MODEL_02649f130ed54827ab1ab8f3c0c03bac"
          }
        },
        "fdeea0751c434a7b93308771b897c912": {
          "model_module": "@jupyter-widgets/controls",
          "model_name": "HTMLModel",
          "model_module_version": "1.5.0",
          "state": {
            "_dom_classes": [],
            "_model_module": "@jupyter-widgets/controls",
            "_model_module_version": "1.5.0",
            "_model_name": "HTMLModel",
            "_view_count": null,
            "_view_module": "@jupyter-widgets/controls",
            "_view_module_version": "1.5.0",
            "_view_name": "HTMLView",
            "description": "",
            "description_tooltip": null,
            "layout": "IPY_MODEL_5edb6ee7c6ff448c857953b3b851dcbf",
            "placeholder": "​",
            "style": "IPY_MODEL_d2108e8bc3754b9280874cc6f8439800",
            "value": "Read progress 0:   0%"
          }
        },
        "6c3872f763784d488afb66504e0d9d6f": {
          "model_module": "@jupyter-widgets/controls",
          "model_name": "FloatProgressModel",
          "model_module_version": "1.5.0",
          "state": {
            "_dom_classes": [],
            "_model_module": "@jupyter-widgets/controls",
            "_model_module_version": "1.5.0",
            "_model_name": "FloatProgressModel",
            "_view_count": null,
            "_view_module": "@jupyter-widgets/controls",
            "_view_module_version": "1.5.0",
            "_view_name": "ProgressView",
            "bar_style": "",
            "description": "",
            "description_tooltip": null,
            "layout": "IPY_MODEL_5a4e3b9340164156908c64574b8832f0",
            "max": 2,
            "min": 0,
            "orientation": "horizontal",
            "style": "IPY_MODEL_db961dbf26d0447ba3277a2c9e5049fe",
            "value": 2
          }
        },
        "4e158ece137f4f3c8a2fa05e6658b434": {
          "model_module": "@jupyter-widgets/controls",
          "model_name": "HTMLModel",
          "model_module_version": "1.5.0",
          "state": {
            "_dom_classes": [],
            "_model_module": "@jupyter-widgets/controls",
            "_model_module_version": "1.5.0",
            "_model_name": "HTMLModel",
            "_view_count": null,
            "_view_module": "@jupyter-widgets/controls",
            "_view_module_version": "1.5.0",
            "_view_name": "HTMLView",
            "description": "",
            "description_tooltip": null,
            "layout": "IPY_MODEL_8d3477fc69ed4dc9bf26978bb6335a11",
            "placeholder": "​",
            "style": "IPY_MODEL_27a81c67cb6b416dbe35941f08b00eed",
            "value": " 0/2 [00:00&lt;?, ?it/s]"
          }
        },
        "02649f130ed54827ab1ab8f3c0c03bac": {
          "model_module": "@jupyter-widgets/base",
          "model_name": "LayoutModel",
          "model_module_version": "1.2.0",
          "state": {
            "_model_module": "@jupyter-widgets/base",
            "_model_module_version": "1.2.0",
            "_model_name": "LayoutModel",
            "_view_count": null,
            "_view_module": "@jupyter-widgets/base",
            "_view_module_version": "1.2.0",
            "_view_name": "LayoutView",
            "align_content": null,
            "align_items": null,
            "align_self": null,
            "border": null,
            "bottom": null,
            "display": null,
            "flex": null,
            "flex_flow": null,
            "grid_area": null,
            "grid_auto_columns": null,
            "grid_auto_flow": null,
            "grid_auto_rows": null,
            "grid_column": null,
            "grid_gap": null,
            "grid_row": null,
            "grid_template_areas": null,
            "grid_template_columns": null,
            "grid_template_rows": null,
            "height": null,
            "justify_content": null,
            "justify_items": null,
            "left": null,
            "margin": null,
            "max_height": null,
            "max_width": null,
            "min_height": null,
            "min_width": null,
            "object_fit": null,
            "object_position": null,
            "order": null,
            "overflow": null,
            "overflow_x": null,
            "overflow_y": null,
            "padding": null,
            "right": null,
            "top": null,
            "visibility": "hidden",
            "width": null
          }
        },
        "5edb6ee7c6ff448c857953b3b851dcbf": {
          "model_module": "@jupyter-widgets/base",
          "model_name": "LayoutModel",
          "model_module_version": "1.2.0",
          "state": {
            "_model_module": "@jupyter-widgets/base",
            "_model_module_version": "1.2.0",
            "_model_name": "LayoutModel",
            "_view_count": null,
            "_view_module": "@jupyter-widgets/base",
            "_view_module_version": "1.2.0",
            "_view_name": "LayoutView",
            "align_content": null,
            "align_items": null,
            "align_self": null,
            "border": null,
            "bottom": null,
            "display": null,
            "flex": null,
            "flex_flow": null,
            "grid_area": null,
            "grid_auto_columns": null,
            "grid_auto_flow": null,
            "grid_auto_rows": null,
            "grid_column": null,
            "grid_gap": null,
            "grid_row": null,
            "grid_template_areas": null,
            "grid_template_columns": null,
            "grid_template_rows": null,
            "height": null,
            "justify_content": null,
            "justify_items": null,
            "left": null,
            "margin": null,
            "max_height": null,
            "max_width": null,
            "min_height": null,
            "min_width": null,
            "object_fit": null,
            "object_position": null,
            "order": null,
            "overflow": null,
            "overflow_x": null,
            "overflow_y": null,
            "padding": null,
            "right": null,
            "top": null,
            "visibility": null,
            "width": null
          }
        },
        "d2108e8bc3754b9280874cc6f8439800": {
          "model_module": "@jupyter-widgets/controls",
          "model_name": "DescriptionStyleModel",
          "model_module_version": "1.5.0",
          "state": {
            "_model_module": "@jupyter-widgets/controls",
            "_model_module_version": "1.5.0",
            "_model_name": "DescriptionStyleModel",
            "_view_count": null,
            "_view_module": "@jupyter-widgets/base",
            "_view_module_version": "1.2.0",
            "_view_name": "StyleView",
            "description_width": ""
          }
        },
        "5a4e3b9340164156908c64574b8832f0": {
          "model_module": "@jupyter-widgets/base",
          "model_name": "LayoutModel",
          "model_module_version": "1.2.0",
          "state": {
            "_model_module": "@jupyter-widgets/base",
            "_model_module_version": "1.2.0",
            "_model_name": "LayoutModel",
            "_view_count": null,
            "_view_module": "@jupyter-widgets/base",
            "_view_module_version": "1.2.0",
            "_view_name": "LayoutView",
            "align_content": null,
            "align_items": null,
            "align_self": null,
            "border": null,
            "bottom": null,
            "display": null,
            "flex": null,
            "flex_flow": null,
            "grid_area": null,
            "grid_auto_columns": null,
            "grid_auto_flow": null,
            "grid_auto_rows": null,
            "grid_column": null,
            "grid_gap": null,
            "grid_row": null,
            "grid_template_areas": null,
            "grid_template_columns": null,
            "grid_template_rows": null,
            "height": null,
            "justify_content": null,
            "justify_items": null,
            "left": null,
            "margin": null,
            "max_height": null,
            "max_width": null,
            "min_height": null,
            "min_width": null,
            "object_fit": null,
            "object_position": null,
            "order": null,
            "overflow": null,
            "overflow_x": null,
            "overflow_y": null,
            "padding": null,
            "right": null,
            "top": null,
            "visibility": null,
            "width": null
          }
        },
        "db961dbf26d0447ba3277a2c9e5049fe": {
          "model_module": "@jupyter-widgets/controls",
          "model_name": "ProgressStyleModel",
          "model_module_version": "1.5.0",
          "state": {
            "_model_module": "@jupyter-widgets/controls",
            "_model_module_version": "1.5.0",
            "_model_name": "ProgressStyleModel",
            "_view_count": null,
            "_view_module": "@jupyter-widgets/base",
            "_view_module_version": "1.2.0",
            "_view_name": "StyleView",
            "bar_color": null,
            "description_width": ""
          }
        },
        "8d3477fc69ed4dc9bf26978bb6335a11": {
          "model_module": "@jupyter-widgets/base",
          "model_name": "LayoutModel",
          "model_module_version": "1.2.0",
          "state": {
            "_model_module": "@jupyter-widgets/base",
            "_model_module_version": "1.2.0",
            "_model_name": "LayoutModel",
            "_view_count": null,
            "_view_module": "@jupyter-widgets/base",
            "_view_module_version": "1.2.0",
            "_view_name": "LayoutView",
            "align_content": null,
            "align_items": null,
            "align_self": null,
            "border": null,
            "bottom": null,
            "display": null,
            "flex": null,
            "flex_flow": null,
            "grid_area": null,
            "grid_auto_columns": null,
            "grid_auto_flow": null,
            "grid_auto_rows": null,
            "grid_column": null,
            "grid_gap": null,
            "grid_row": null,
            "grid_template_areas": null,
            "grid_template_columns": null,
            "grid_template_rows": null,
            "height": null,
            "justify_content": null,
            "justify_items": null,
            "left": null,
            "margin": null,
            "max_height": null,
            "max_width": null,
            "min_height": null,
            "min_width": null,
            "object_fit": null,
            "object_position": null,
            "order": null,
            "overflow": null,
            "overflow_x": null,
            "overflow_y": null,
            "padding": null,
            "right": null,
            "top": null,
            "visibility": null,
            "width": null
          }
        },
        "27a81c67cb6b416dbe35941f08b00eed": {
          "model_module": "@jupyter-widgets/controls",
          "model_name": "DescriptionStyleModel",
          "model_module_version": "1.5.0",
          "state": {
            "_model_module": "@jupyter-widgets/controls",
            "_model_module_version": "1.5.0",
            "_model_name": "DescriptionStyleModel",
            "_view_count": null,
            "_view_module": "@jupyter-widgets/base",
            "_view_module_version": "1.2.0",
            "_view_name": "StyleView",
            "description_width": ""
          }
        }
      }
    }
  },
  "nbformat": 4,
  "nbformat_minor": 0
}